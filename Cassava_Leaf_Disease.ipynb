{
  "cells": [
    {
      "cell_type": "markdown",
      "metadata": {
        "id": "view-in-github",
        "colab_type": "text"
      },
      "source": [
        "<a href=\"https://colab.research.google.com/github/kidsage/KaggleStudy/blob/main/Cassava_Leaf_Disease.ipynb\" target=\"_parent\"><img src=\"https://colab.research.google.com/assets/colab-badge.svg\" alt=\"Open In Colab\"/></a>"
      ]
    },
    {
      "cell_type": "code",
      "execution_count": 2,
      "metadata": {
        "colab": {
          "base_uri": "https://localhost:8080/",
          "height": 76,
          "resources": {
            "http://localhost:8080/nbextensions/google.colab/files.js": {
              "data": "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",
              "headers": [
                [
                  "content-type",
                  "application/javascript"
                ]
              ],
              "ok": true,
              "status": 200,
              "status_text": ""
            }
          }
        },
        "id": "Gxn8fUpjFhaz",
        "outputId": "2cc1a14a-c442-4bc4-e75f-747559e919b0"
      },
      "outputs": [
        {
          "output_type": "display_data",
          "data": {
            "text/html": [
              "\n",
              "     <input type=\"file\" id=\"files-51b9b937-391c-4c8f-984f-64c79e5b6015\" name=\"files[]\" multiple disabled\n",
              "        style=\"border:none\" />\n",
              "     <output id=\"result-51b9b937-391c-4c8f-984f-64c79e5b6015\">\n",
              "      Upload widget is only available when the cell has been executed in the\n",
              "      current browser session. Please rerun this cell to enable.\n",
              "      </output>\n",
              "      <script src=\"/nbextensions/google.colab/files.js\"></script> "
            ],
            "text/plain": [
              "<IPython.core.display.HTML object>"
            ]
          },
          "metadata": {}
        },
        {
          "output_type": "stream",
          "name": "stdout",
          "text": [
            "Saving kaggle.json to kaggle.json\n"
          ]
        }
      ],
      "source": [
        "from google.colab import files\n",
        "uploaded = files.upload()"
      ]
    },
    {
      "cell_type": "code",
      "source": [
        "!mkdir -p ~/.kaggle"
      ],
      "metadata": {
        "id": "5m-yDfAiOMOZ"
      },
      "execution_count": 5,
      "outputs": []
    },
    {
      "cell_type": "code",
      "execution_count": 6,
      "metadata": {
        "id": "302i85ZCF5zc"
      },
      "outputs": [],
      "source": [
        "!cp kaggle.json ~/.kaggle/\n",
        "!chmod 600 /root/.kaggle/kaggle.json"
      ]
    },
    {
      "cell_type": "code",
      "execution_count": 7,
      "metadata": {
        "id": "RbcCU8eCGdPB",
        "colab": {
          "base_uri": "https://localhost:8080/"
        },
        "outputId": "540f94c7-51fb-42b0-eee8-6b0ff1ce3860"
      },
      "outputs": [
        {
          "output_type": "stream",
          "name": "stdout",
          "text": [
            "Warning: Looks like you're using an outdated API Version, please consider updating (server 1.5.12 / client 1.5.4)\n",
            "Downloading ld_train09-1338.tfrec.zip to /content\n",
            " 97% 211M/216M [00:01<00:00, 124MB/s]\n",
            "100% 216M/216M [00:01<00:00, 128MB/s]\n",
            "Downloading ld_train13-1338.tfrec.zip to /content\n",
            " 99% 214M/217M [00:01<00:00, 155MB/s]\n",
            "100% 217M/217M [00:01<00:00, 135MB/s]\n",
            "Downloading ld_train04-1338.tfrec.zip to /content\n",
            " 93% 202M/216M [00:01<00:00, 136MB/s]\n",
            "100% 216M/216M [00:01<00:00, 128MB/s]\n",
            "Downloading ld_train08-1338.tfrec.zip to /content\n",
            " 98% 212M/217M [00:01<00:00, 128MB/s]\n",
            "100% 217M/217M [00:01<00:00, 136MB/s]\n",
            "Downloading ld_train05-1338.tfrec.zip to /content\n",
            " 99% 213M/214M [00:02<00:00, 103MB/s]\n",
            "100% 214M/214M [00:02<00:00, 103MB/s]\n",
            "Downloading ld_train14-1338.tfrec.zip to /content\n",
            " 98% 210M/215M [00:01<00:00, 128MB/s]\n",
            "100% 215M/215M [00:01<00:00, 120MB/s]\n",
            "Downloading ld_train06-1338.tfrec.zip to /content\n",
            " 93% 201M/216M [00:01<00:00, 125MB/s]\n",
            "100% 216M/216M [00:01<00:00, 125MB/s]\n",
            "Downloading ld_train00-1338.tfrec.zip to /content\n",
            " 99% 215M/217M [00:02<00:00, 104MB/s] \n",
            "100% 217M/217M [00:02<00:00, 104MB/s]\n",
            "Downloading ld_train15-1327.tfrec.zip to /content\n",
            " 96% 206M/214M [00:01<00:00, 139MB/s]\n",
            "100% 214M/214M [00:01<00:00, 126MB/s]\n",
            "Downloading ld_train11-1338.tfrec.zip to /content\n",
            " 92% 201M/218M [00:02<00:00, 84.3MB/s]\n",
            "100% 218M/218M [00:02<00:00, 98.1MB/s]\n",
            "Downloading ld_train07-1338.tfrec.zip to /content\n",
            " 93% 200M/216M [00:04<00:00, 59.7MB/s]\n",
            "100% 216M/216M [00:04<00:00, 47.2MB/s]\n",
            "Downloading ld_train03-1338.tfrec.zip to /content\n",
            " 99% 215M/217M [00:04<00:00, 39.0MB/s]\n",
            "100% 217M/217M [00:05<00:00, 44.6MB/s]\n",
            "Downloading ld_train10-1338.tfrec.zip to /content\n",
            " 96% 209M/217M [00:04<00:00, 41.1MB/s]\n",
            "100% 217M/217M [00:04<00:00, 46.9MB/s]\n",
            "Downloading ld_train12-1338.tfrec.zip to /content\n",
            " 97% 209M/216M [00:03<00:00, 58.1MB/s]\n",
            "100% 216M/216M [00:03<00:00, 67.9MB/s]\n",
            "Downloading ld_train02-1338.tfrec.zip to /content\n",
            " 97% 210M/216M [00:07<00:00, 16.9MB/s]\n",
            "100% 216M/216M [00:07<00:00, 28.9MB/s]\n",
            "Downloading ld_train01-1338.tfrec.zip to /content\n",
            " 98% 210M/215M [00:06<00:00, 12.7MB/s]\n",
            "100% 215M/215M [00:06<00:00, 34.0MB/s]\n",
            "Downloading 2216849948.jpg to /content\n",
            "  0% 0.00/141k [00:00<?, ?B/s]\n",
            "100% 141k/141k [00:00<00:00, 136MB/s]\n",
            "Downloading ld_test00-1.tfrec to /content\n",
            "  0% 0.00/191k [00:00<?, ?B/s]\n",
            "100% 191k/191k [00:00<00:00, 189MB/s]\n",
            "Downloading 1001320321.jpg to /content\n",
            "  0% 0.00/82.3k [00:00<?, ?B/s]\n",
            "100% 82.3k/82.3k [00:00<00:00, 74.2MB/s]\n",
            "Downloading 1002394761.jpg to /content\n",
            "  0% 0.00/101k [00:00<?, ?B/s]\n",
            "100% 101k/101k [00:00<00:00, 98.8MB/s]\n",
            "Downloading 1001742395.jpg to /content\n",
            "  0% 0.00/99.7k [00:00<?, ?B/s]\n",
            "100% 99.7k/99.7k [00:00<00:00, 136MB/s]\n",
            "Downloading 1000910826.jpg to /content\n",
            "  0% 0.00/100k [00:00<?, ?B/s]\n",
            "100% 100k/100k [00:00<00:00, 107MB/s]\n",
            "Downloading 1003298598.jpg to /content\n",
            "  0% 0.00/142k [00:00<?, ?B/s]\n",
            "100% 142k/142k [00:00<00:00, 126MB/s]\n",
            "Downloading 1002088496.jpg to /content\n",
            "  0% 0.00/131k [00:00<?, ?B/s]\n",
            "100% 131k/131k [00:00<00:00, 129MB/s]\n",
            "Downloading 1003987001.jpg to /content\n",
            "  0% 0.00/101k [00:00<?, ?B/s]\n",
            "100% 101k/101k [00:00<00:00, 120MB/s]\n",
            "Downloading 1003442061.jpg to /content\n",
            "  0% 0.00/101k [00:00<?, ?B/s]\n",
            "100% 101k/101k [00:00<00:00, 160MB/s]\n",
            "Downloading 100042118.jpg to /content\n",
            "  0% 0.00/72.8k [00:00<?, ?B/s]\n",
            "100% 72.8k/72.8k [00:00<00:00, 63.7MB/s]\n",
            "Downloading 1000201771.jpg to /content\n",
            "  0% 0.00/158k [00:00<?, ?B/s]\n",
            "100% 158k/158k [00:00<00:00, 191MB/s]\n",
            "Downloading 1002255315.jpg to /content\n",
            "  0% 0.00/150k [00:00<?, ?B/s]\n",
            "100% 150k/150k [00:00<00:00, 47.4MB/s]\n",
            "Downloading 1000812911.jpg to /content\n",
            "  0% 0.00/79.1k [00:00<?, ?B/s]\n",
            "100% 79.1k/79.1k [00:00<00:00, 91.6MB/s]\n",
            "Downloading 1000837476.jpg to /content\n",
            "  0% 0.00/104k [00:00<?, ?B/s]\n",
            "100% 104k/104k [00:00<00:00, 89.6MB/s]\n",
            "Downloading 100204014.jpg to /content\n",
            "  0% 0.00/170k [00:00<?, ?B/s]\n",
            "100% 170k/170k [00:00<00:00, 145MB/s]\n",
            "Downloading 1000723321.jpg to /content\n",
            "  0% 0.00/119k [00:00<?, ?B/s]\n",
            "100% 119k/119k [00:00<00:00, 102MB/s]\n",
            "Downloading 1000015157.jpg to /content\n",
            "  0% 0.00/136k [00:00<?, ?B/s]\n",
            "100% 136k/136k [00:00<00:00, 118MB/s]\n",
            "Downloading 1001749118.jpg to /content\n",
            "  0% 0.00/135k [00:00<?, ?B/s]\n",
            "100% 135k/135k [00:00<00:00, 129MB/s]\n",
            "Downloading 1001723730.jpg to /content\n",
            "  0% 0.00/83.5k [00:00<?, ?B/s]\n",
            "100% 83.5k/83.5k [00:00<00:00, 81.2MB/s]\n",
            "Downloading 1003888281.jpg to /content\n",
            "  0% 0.00/110k [00:00<?, ?B/s]\n",
            "100% 110k/110k [00:00<00:00, 107MB/s]\n",
            "Downloading 1003218714.jpg to /content\n",
            "  0% 0.00/127k [00:00<?, ?B/s]\n",
            "100% 127k/127k [00:00<00:00, 132MB/s]\n",
            "Downloading train.csv to /content\n",
            "  0% 0.00/350k [00:00<?, ?B/s]\n",
            "100% 350k/350k [00:00<00:00, 147MB/s]\n",
            "Downloading sample_submission.csv to /content\n",
            "  0% 0.00/32.0 [00:00<?, ?B/s]\n",
            "100% 32.0/32.0 [00:00<00:00, 33.3kB/s]\n",
            "Downloading label_num_to_disease_map.json to /content\n",
            "  0% 0.00/172 [00:00<?, ?B/s]\n",
            "100% 172/172 [00:00<00:00, 335kB/s]\n"
          ]
        }
      ],
      "source": [
        "!kaggle competitions download -c cassava-leaf-disease-classification"
      ]
    },
    {
      "cell_type": "code",
      "execution_count": 40,
      "metadata": {
        "colab": {
          "base_uri": "https://localhost:8080/"
        },
        "id": "IMY2xArEJ84H",
        "outputId": "9e02f362-2b99-49d9-8954-b30e84b10f3b"
      },
      "outputs": [
        {
          "output_type": "stream",
          "name": "stdout",
          "text": [
            "Archive:  ld_train00-1338.tfrec.zip\n",
            "replace ld_train00-1338.tfrec? [y]es, [n]o, [A]ll, [N]one, [r]ename: A\n",
            "  inflating: ld_train00-1338.tfrec   \n",
            "Archive:  ld_train01-1338.tfrec.zip\n",
            "replace ld_train01-1338.tfrec? [y]es, [n]o, [A]ll, [N]one, [r]ename: A\n",
            "  inflating: ld_train01-1338.tfrec   \n",
            "Archive:  ld_train02-1338.tfrec.zip\n",
            "replace ld_train02-1338.tfrec? [y]es, [n]o, [A]ll, [N]one, [r]ename: A\n",
            "  inflating: ld_train02-1338.tfrec   \n",
            "Archive:  ld_train03-1338.tfrec.zip\n",
            "replace ld_train03-1338.tfrec? [y]es, [n]o, [A]ll, [N]one, [r]ename: A\n",
            "  inflating: ld_train03-1338.tfrec   \n",
            "Archive:  ld_train04-1338.tfrec.zip\n",
            "replace ld_train04-1338.tfrec? [y]es, [n]o, [A]ll, [N]one, [r]ename: A\n",
            "  inflating: ld_train04-1338.tfrec   \n",
            "Archive:  ld_train05-1338.tfrec.zip\n",
            "replace ld_train05-1338.tfrec? [y]es, [n]o, [A]ll, [N]one, [r]ename: A\n",
            "  inflating: ld_train05-1338.tfrec   \n",
            "Archive:  ld_train06-1338.tfrec.zip\n",
            "replace ld_train06-1338.tfrec? [y]es, [n]o, [A]ll, [N]one, [r]ename: A\n",
            "  inflating: ld_train06-1338.tfrec   \n",
            "Archive:  ld_train07-1338.tfrec.zip\n",
            "replace ld_train07-1338.tfrec? [y]es, [n]o, [A]ll, [N]one, [r]ename: A\n",
            "  inflating: ld_train07-1338.tfrec   \n",
            "Archive:  ld_train08-1338.tfrec.zip\n",
            "replace ld_train08-1338.tfrec? [y]es, [n]o, [A]ll, [N]one, [r]ename: A\n",
            "  inflating: ld_train08-1338.tfrec   \n",
            "Archive:  ld_train09-1338.tfrec.zip\n",
            "replace ld_train09-1338.tfrec? [y]es, [n]o, [A]ll, [N]one, [r]ename: A\n",
            "  inflating: ld_train09-1338.tfrec   \n",
            "Archive:  ld_train10-1338.tfrec.zip\n",
            "replace ld_train10-1338.tfrec? [y]es, [n]o, [A]ll, [N]one, [r]ename: A\n",
            "  inflating: ld_train10-1338.tfrec   \n",
            "Archive:  ld_train11-1338.tfrec.zip\n",
            "replace ld_train11-1338.tfrec? [y]es, [n]o, [A]ll, [N]one, [r]ename: A\n",
            "  inflating: ld_train11-1338.tfrec   \n",
            "Archive:  ld_train12-1338.tfrec.zip\n",
            "replace ld_train12-1338.tfrec? [y]es, [n]o, [A]ll, [N]one, [r]ename: A\n",
            "  inflating: ld_train12-1338.tfrec   \n",
            "Archive:  ld_train13-1338.tfrec.zip\n",
            "replace ld_train13-1338.tfrec? [y]es, [n]o, [A]ll, [N]one, [r]ename: A\n",
            "  inflating: ld_train13-1338.tfrec   \n",
            "Archive:  ld_train14-1338.tfrec.zip\n",
            "replace ld_train14-1338.tfrec? [y]es, [n]o, [A]ll, [N]one, [r]ename: KaggleDatasets().get_gcs_path\n",
            "error:  invalid response [KaggleDat]\n",
            "replace ld_train14-1338.tfrec? [y]es, [n]o, [A]ll, [N]one, [r]ename: error:  invalid response [asets().g]\n",
            "replace ld_train14-1338.tfrec? [y]es, [n]o, [A]ll, [N]one, [r]ename: error:  invalid response [et_gcs_pa]\n",
            "replace ld_train14-1338.tfrec? [y]es, [n]o, [A]ll, [N]one, [r]ename: error:  invalid response [th]\n",
            "replace ld_train14-1338.tfrec? [y]es, [n]o, [A]ll, [N]one, [r]ename: A\n",
            "  inflating: ld_train14-1338.tfrec   \n",
            "Archive:  ld_train15-1327.tfrec.zip\n",
            "replace ld_train15-1327.tfrec? [y]es, [n]o, [A]ll, [N]one, [r]ename: A\n",
            "  inflating: ld_train15-1327.tfrec   \n"
          ]
        }
      ],
      "source": [
        "!unzip ld_train00-1338.tfrec.zip\n",
        "!unzip ld_train01-1338.tfrec.zip\n",
        "!unzip ld_train02-1338.tfrec.zip\n",
        "!unzip ld_train03-1338.tfrec.zip\n",
        "!unzip ld_train04-1338.tfrec.zip\n",
        "!unzip ld_train05-1338.tfrec.zip\n",
        "!unzip ld_train06-1338.tfrec.zip\n",
        "!unzip ld_train07-1338.tfrec.zip\n",
        "!unzip ld_train08-1338.tfrec.zip\n",
        "!unzip ld_train09-1338.tfrec.zip\n",
        "!unzip ld_train10-1338.tfrec.zip\n",
        "!unzip ld_train11-1338.tfrec.zip\n",
        "!unzip ld_train12-1338.tfrec.zip\n",
        "!unzip ld_train13-1338.tfrec.zip\n",
        "!unzip ld_train14-1338.tfrec.zip\n",
        "!unzip ld_train15-1327.tfrec.zip"
      ]
    },
    {
      "cell_type": "code",
      "source": [
        "from kaggle_datasets import KaggleDatasets\n",
        "GCS_PATH = KaggleDatasets().get_gcs_path()"
      ],
      "metadata": {
        "colab": {
          "base_uri": "https://localhost:8080/",
          "height": 340
        },
        "id": "_1GfnzvbVCbZ",
        "outputId": "a686cb62-35c4-4772-f527-df694e21312e"
      },
      "execution_count": 44,
      "outputs": [
        {
          "output_type": "error",
          "ename": "ModuleNotFoundError",
          "evalue": "ignored",
          "traceback": [
            "\u001b[0;31m---------------------------------------------------------------------------\u001b[0m",
            "\u001b[0;31mModuleNotFoundError\u001b[0m                       Traceback (most recent call last)",
            "\u001b[0;32m<ipython-input-44-9843f5d5d26e>\u001b[0m in \u001b[0;36m<module>\u001b[0;34m()\u001b[0m\n\u001b[0;32m----> 1\u001b[0;31m \u001b[0;32mfrom\u001b[0m \u001b[0mkaggle_datasets\u001b[0m \u001b[0;32mimport\u001b[0m \u001b[0mKaggleDatasets\u001b[0m\u001b[0;34m\u001b[0m\u001b[0;34m\u001b[0m\u001b[0m\n\u001b[0m\u001b[1;32m      2\u001b[0m \u001b[0mGCS_PATH\u001b[0m \u001b[0;34m=\u001b[0m \u001b[0mKaggleDatasets\u001b[0m\u001b[0;34m(\u001b[0m\u001b[0;34m)\u001b[0m\u001b[0;34m.\u001b[0m\u001b[0mget_gcs_path\u001b[0m\u001b[0;34m(\u001b[0m\u001b[0;34m)\u001b[0m\u001b[0;34m\u001b[0m\u001b[0;34m\u001b[0m\u001b[0m\n",
            "\u001b[0;31mModuleNotFoundError\u001b[0m: No module named 'kaggle_datasets'",
            "",
            "\u001b[0;31m---------------------------------------------------------------------------\u001b[0;32m\nNOTE: If your import is failing due to a missing package, you can\nmanually install dependencies using either !pip or !apt.\n\nTo view examples of installing some common dependencies, click the\n\"Open Examples\" button below.\n\u001b[0;31m---------------------------------------------------------------------------\u001b[0m\n"
          ],
          "errorDetails": {
            "actions": [
              {
                "action": "open_url",
                "actionText": "Open Examples",
                "url": "/notebooks/snippets/importing_libraries.ipynb"
              }
            ]
          }
        }
      ]
    },
    {
      "cell_type": "code",
      "execution_count": 9,
      "metadata": {
        "colab": {
          "base_uri": "https://localhost:8080/"
        },
        "id": "dujmDdBVI2nj",
        "outputId": "be112630-a9bf-4481-fa28-931238d2364c"
      },
      "outputs": [
        {
          "output_type": "stream",
          "name": "stdout",
          "text": [
            "\u001b[?25l\r\u001b[K     |██████▌                         | 10 kB 22.1 MB/s eta 0:00:01\r\u001b[K     |█████████████                   | 20 kB 24.8 MB/s eta 0:00:01\r\u001b[K     |███████████████████▍            | 30 kB 11.7 MB/s eta 0:00:01\r\u001b[K     |█████████████████████████▉      | 40 kB 9.9 MB/s eta 0:00:01\r\u001b[K     |████████████████████████████████| 50 kB 2.6 MB/s \n",
            "\u001b[?25h"
          ]
        }
      ],
      "source": [
        "!pip install --quiet efficientnet"
      ]
    },
    {
      "cell_type": "code",
      "execution_count": 45,
      "metadata": {
        "id": "gOutalRGI6dw"
      },
      "outputs": [],
      "source": [
        "import math, os, re, warnings, random\n",
        "import numpy as np\n",
        "import pandas as pd\n",
        "import seaborn as sns\n",
        "from matplotlib import pyplot as plt\n",
        "#from kaggle_datasets import KaggleDatasets\n",
        "from sklearn.utils import class_weight\n",
        "from sklearn.model_selection import KFold\n",
        "from sklearn.metrics import classification_report, confusion_matrix, accuracy_score\n",
        "import tensorflow as tf\n",
        "import tensorflow.keras.layers as L\n",
        "import tensorflow.keras.backend as K\n",
        "from tensorflow.keras import optimizers, applications, Sequential, losses, metrics\n",
        "from tensorflow.keras.callbacks import EarlyStopping, ModelCheckpoint, LearningRateScheduler\n",
        "import efficientnet.tfkeras as efn\n",
        "\n",
        "def seed_everything(seed=0):\n",
        "    random.seed(seed)\n",
        "    np.random.seed(seed)\n",
        "    tf.random.set_seed(seed)\n",
        "    os.environ['PYTHONHASHSEED'] = str(seed)\n",
        "    os.environ['TF_DETERMINISTIC_OPS'] = '1'\n",
        "\n",
        "seed = 0\n",
        "seed_everything(seed)\n",
        "warnings.filterwarnings('ignore')"
      ]
    },
    {
      "cell_type": "code",
      "execution_count": 46,
      "metadata": {
        "colab": {
          "base_uri": "https://localhost:8080/"
        },
        "id": "WjQMqzPzJCfw",
        "outputId": "92634c21-2855-4abc-8907-f6f24eb55535"
      },
      "outputs": [
        {
          "output_type": "stream",
          "name": "stdout",
          "text": [
            "Running on TPU grpc://10.85.99.122:8470\n",
            "INFO:tensorflow:Deallocate tpu buffers before initializing tpu system.\n"
          ]
        },
        {
          "output_type": "stream",
          "name": "stderr",
          "text": [
            "INFO:tensorflow:Deallocate tpu buffers before initializing tpu system.\n"
          ]
        },
        {
          "output_type": "stream",
          "name": "stdout",
          "text": [
            "WARNING:tensorflow:TPU system grpc://10.85.99.122:8470 has already been initialized. Reinitializing the TPU can cause previously created variables on TPU to be lost.\n"
          ]
        },
        {
          "output_type": "stream",
          "name": "stderr",
          "text": [
            "WARNING:tensorflow:TPU system grpc://10.85.99.122:8470 has already been initialized. Reinitializing the TPU can cause previously created variables on TPU to be lost.\n"
          ]
        },
        {
          "output_type": "stream",
          "name": "stdout",
          "text": [
            "INFO:tensorflow:Initializing the TPU system: grpc://10.85.99.122:8470\n"
          ]
        },
        {
          "output_type": "stream",
          "name": "stderr",
          "text": [
            "INFO:tensorflow:Initializing the TPU system: grpc://10.85.99.122:8470\n"
          ]
        },
        {
          "output_type": "stream",
          "name": "stdout",
          "text": [
            "INFO:tensorflow:Finished initializing TPU system.\n"
          ]
        },
        {
          "output_type": "stream",
          "name": "stderr",
          "text": [
            "INFO:tensorflow:Finished initializing TPU system.\n",
            "WARNING:absl:`tf.distribute.experimental.TPUStrategy` is deprecated, please use  the non experimental symbol `tf.distribute.TPUStrategy` instead.\n"
          ]
        },
        {
          "output_type": "stream",
          "name": "stdout",
          "text": [
            "INFO:tensorflow:Found TPU system:\n"
          ]
        },
        {
          "output_type": "stream",
          "name": "stderr",
          "text": [
            "INFO:tensorflow:Found TPU system:\n"
          ]
        },
        {
          "output_type": "stream",
          "name": "stdout",
          "text": [
            "INFO:tensorflow:*** Num TPU Cores: 8\n"
          ]
        },
        {
          "output_type": "stream",
          "name": "stderr",
          "text": [
            "INFO:tensorflow:*** Num TPU Cores: 8\n"
          ]
        },
        {
          "output_type": "stream",
          "name": "stdout",
          "text": [
            "INFO:tensorflow:*** Num TPU Workers: 1\n"
          ]
        },
        {
          "output_type": "stream",
          "name": "stderr",
          "text": [
            "INFO:tensorflow:*** Num TPU Workers: 1\n"
          ]
        },
        {
          "output_type": "stream",
          "name": "stdout",
          "text": [
            "INFO:tensorflow:*** Num TPU Cores Per Worker: 8\n"
          ]
        },
        {
          "output_type": "stream",
          "name": "stderr",
          "text": [
            "INFO:tensorflow:*** Num TPU Cores Per Worker: 8\n"
          ]
        },
        {
          "output_type": "stream",
          "name": "stdout",
          "text": [
            "INFO:tensorflow:*** Available Device: _DeviceAttributes(/job:localhost/replica:0/task:0/device:CPU:0, CPU, 0, 0)\n"
          ]
        },
        {
          "output_type": "stream",
          "name": "stderr",
          "text": [
            "INFO:tensorflow:*** Available Device: _DeviceAttributes(/job:localhost/replica:0/task:0/device:CPU:0, CPU, 0, 0)\n"
          ]
        },
        {
          "output_type": "stream",
          "name": "stdout",
          "text": [
            "INFO:tensorflow:*** Available Device: _DeviceAttributes(/job:worker/replica:0/task:0/device:CPU:0, CPU, 0, 0)\n"
          ]
        },
        {
          "output_type": "stream",
          "name": "stderr",
          "text": [
            "INFO:tensorflow:*** Available Device: _DeviceAttributes(/job:worker/replica:0/task:0/device:CPU:0, CPU, 0, 0)\n"
          ]
        },
        {
          "output_type": "stream",
          "name": "stdout",
          "text": [
            "INFO:tensorflow:*** Available Device: _DeviceAttributes(/job:worker/replica:0/task:0/device:TPU:0, TPU, 0, 0)\n"
          ]
        },
        {
          "output_type": "stream",
          "name": "stderr",
          "text": [
            "INFO:tensorflow:*** Available Device: _DeviceAttributes(/job:worker/replica:0/task:0/device:TPU:0, TPU, 0, 0)\n"
          ]
        },
        {
          "output_type": "stream",
          "name": "stdout",
          "text": [
            "INFO:tensorflow:*** Available Device: _DeviceAttributes(/job:worker/replica:0/task:0/device:TPU:1, TPU, 0, 0)\n"
          ]
        },
        {
          "output_type": "stream",
          "name": "stderr",
          "text": [
            "INFO:tensorflow:*** Available Device: _DeviceAttributes(/job:worker/replica:0/task:0/device:TPU:1, TPU, 0, 0)\n"
          ]
        },
        {
          "output_type": "stream",
          "name": "stdout",
          "text": [
            "INFO:tensorflow:*** Available Device: _DeviceAttributes(/job:worker/replica:0/task:0/device:TPU:2, TPU, 0, 0)\n"
          ]
        },
        {
          "output_type": "stream",
          "name": "stderr",
          "text": [
            "INFO:tensorflow:*** Available Device: _DeviceAttributes(/job:worker/replica:0/task:0/device:TPU:2, TPU, 0, 0)\n"
          ]
        },
        {
          "output_type": "stream",
          "name": "stdout",
          "text": [
            "INFO:tensorflow:*** Available Device: _DeviceAttributes(/job:worker/replica:0/task:0/device:TPU:3, TPU, 0, 0)\n"
          ]
        },
        {
          "output_type": "stream",
          "name": "stderr",
          "text": [
            "INFO:tensorflow:*** Available Device: _DeviceAttributes(/job:worker/replica:0/task:0/device:TPU:3, TPU, 0, 0)\n"
          ]
        },
        {
          "output_type": "stream",
          "name": "stdout",
          "text": [
            "INFO:tensorflow:*** Available Device: _DeviceAttributes(/job:worker/replica:0/task:0/device:TPU:4, TPU, 0, 0)\n"
          ]
        },
        {
          "output_type": "stream",
          "name": "stderr",
          "text": [
            "INFO:tensorflow:*** Available Device: _DeviceAttributes(/job:worker/replica:0/task:0/device:TPU:4, TPU, 0, 0)\n"
          ]
        },
        {
          "output_type": "stream",
          "name": "stdout",
          "text": [
            "INFO:tensorflow:*** Available Device: _DeviceAttributes(/job:worker/replica:0/task:0/device:TPU:5, TPU, 0, 0)\n"
          ]
        },
        {
          "output_type": "stream",
          "name": "stderr",
          "text": [
            "INFO:tensorflow:*** Available Device: _DeviceAttributes(/job:worker/replica:0/task:0/device:TPU:5, TPU, 0, 0)\n"
          ]
        },
        {
          "output_type": "stream",
          "name": "stdout",
          "text": [
            "INFO:tensorflow:*** Available Device: _DeviceAttributes(/job:worker/replica:0/task:0/device:TPU:6, TPU, 0, 0)\n"
          ]
        },
        {
          "output_type": "stream",
          "name": "stderr",
          "text": [
            "INFO:tensorflow:*** Available Device: _DeviceAttributes(/job:worker/replica:0/task:0/device:TPU:6, TPU, 0, 0)\n"
          ]
        },
        {
          "output_type": "stream",
          "name": "stdout",
          "text": [
            "INFO:tensorflow:*** Available Device: _DeviceAttributes(/job:worker/replica:0/task:0/device:TPU:7, TPU, 0, 0)\n"
          ]
        },
        {
          "output_type": "stream",
          "name": "stderr",
          "text": [
            "INFO:tensorflow:*** Available Device: _DeviceAttributes(/job:worker/replica:0/task:0/device:TPU:7, TPU, 0, 0)\n"
          ]
        },
        {
          "output_type": "stream",
          "name": "stdout",
          "text": [
            "INFO:tensorflow:*** Available Device: _DeviceAttributes(/job:worker/replica:0/task:0/device:TPU_SYSTEM:0, TPU_SYSTEM, 0, 0)\n"
          ]
        },
        {
          "output_type": "stream",
          "name": "stderr",
          "text": [
            "INFO:tensorflow:*** Available Device: _DeviceAttributes(/job:worker/replica:0/task:0/device:TPU_SYSTEM:0, TPU_SYSTEM, 0, 0)\n"
          ]
        },
        {
          "output_type": "stream",
          "name": "stdout",
          "text": [
            "INFO:tensorflow:*** Available Device: _DeviceAttributes(/job:worker/replica:0/task:0/device:XLA_CPU:0, XLA_CPU, 0, 0)\n"
          ]
        },
        {
          "output_type": "stream",
          "name": "stderr",
          "text": [
            "INFO:tensorflow:*** Available Device: _DeviceAttributes(/job:worker/replica:0/task:0/device:XLA_CPU:0, XLA_CPU, 0, 0)\n"
          ]
        },
        {
          "output_type": "stream",
          "name": "stdout",
          "text": [
            "REPLICAS: 8\n"
          ]
        }
      ],
      "source": [
        "try:\n",
        "    tpu = tf.distribute.cluster_resolver.TPUClusterResolver()\n",
        "    print(f'Running on TPU {tpu.master()}')\n",
        "except ValueError:\n",
        "    tpu = None\n",
        "\n",
        "if tpu:\n",
        "    tf.config.experimental_connect_to_cluster(tpu)\n",
        "    tf.tpu.experimental.initialize_tpu_system(tpu)\n",
        "    strategy = tf.distribute.experimental.TPUStrategy(tpu)\n",
        "else:\n",
        "    strategy = tf.distribute.get_strategy()\n",
        "\n",
        "AUTO = tf.data.experimental.AUTOTUNE\n",
        "REPLICAS = strategy.num_replicas_in_sync\n",
        "print(f'REPLICAS: {REPLICAS}')"
      ]
    },
    {
      "cell_type": "code",
      "execution_count": 47,
      "metadata": {
        "id": "hfXLEqH9HIz8"
      },
      "outputs": [],
      "source": [
        "BATCH_SIZE = 16 * REPLICAS\n",
        "LEARNING_RATE = 3e-5 * REPLICAS\n",
        "EPOCHS = 30\n",
        "HEIGHT = 512\n",
        "WIDTH = 512\n",
        "CHANNELS = 3\n",
        "N_CLASSES = 5\n",
        "ES_PATIENCE = 10\n",
        "N_FOLDS = 5"
      ]
    },
    {
      "cell_type": "code",
      "execution_count": 48,
      "metadata": {
        "colab": {
          "base_uri": "https://localhost:8080/"
        },
        "id": "6BrXsy1wIzii",
        "outputId": "275ead72-1818-4bd5-fa93-b06e1b32057d"
      },
      "outputs": [
        {
          "output_type": "stream",
          "name": "stdout",
          "text": [
            "Train samples: 21397\n"
          ]
        }
      ],
      "source": [
        "def count_data_items(filenames):\n",
        "    n = [int(re.compile(r'-([0-9]*)\\.').search(filename).group(1)) for filename in filenames]\n",
        "    return np.sum(n)\n",
        "\n",
        "train = pd.read_csv('train.csv')\n",
        "print(f'Train samples: {len(train)}')"
      ]
    },
    {
      "cell_type": "code",
      "source": [
        "train"
      ],
      "metadata": {
        "colab": {
          "base_uri": "https://localhost:8080/",
          "height": 423
        },
        "id": "PfTsxCruT-yV",
        "outputId": "a247340e-9343-4724-8e2f-8aa59b0b24c4"
      },
      "execution_count": 49,
      "outputs": [
        {
          "output_type": "execute_result",
          "data": {
            "text/html": [
              "\n",
              "  <div id=\"df-678b7f02-95eb-4e5e-abd4-f9a7d1660bda\">\n",
              "    <div class=\"colab-df-container\">\n",
              "      <div>\n",
              "<style scoped>\n",
              "    .dataframe tbody tr th:only-of-type {\n",
              "        vertical-align: middle;\n",
              "    }\n",
              "\n",
              "    .dataframe tbody tr th {\n",
              "        vertical-align: top;\n",
              "    }\n",
              "\n",
              "    .dataframe thead th {\n",
              "        text-align: right;\n",
              "    }\n",
              "</style>\n",
              "<table border=\"1\" class=\"dataframe\">\n",
              "  <thead>\n",
              "    <tr style=\"text-align: right;\">\n",
              "      <th></th>\n",
              "      <th>image_id</th>\n",
              "      <th>label</th>\n",
              "    </tr>\n",
              "  </thead>\n",
              "  <tbody>\n",
              "    <tr>\n",
              "      <th>0</th>\n",
              "      <td>1000015157.jpg</td>\n",
              "      <td>0</td>\n",
              "    </tr>\n",
              "    <tr>\n",
              "      <th>1</th>\n",
              "      <td>1000201771.jpg</td>\n",
              "      <td>3</td>\n",
              "    </tr>\n",
              "    <tr>\n",
              "      <th>2</th>\n",
              "      <td>100042118.jpg</td>\n",
              "      <td>1</td>\n",
              "    </tr>\n",
              "    <tr>\n",
              "      <th>3</th>\n",
              "      <td>1000723321.jpg</td>\n",
              "      <td>1</td>\n",
              "    </tr>\n",
              "    <tr>\n",
              "      <th>4</th>\n",
              "      <td>1000812911.jpg</td>\n",
              "      <td>3</td>\n",
              "    </tr>\n",
              "    <tr>\n",
              "      <th>...</th>\n",
              "      <td>...</td>\n",
              "      <td>...</td>\n",
              "    </tr>\n",
              "    <tr>\n",
              "      <th>21392</th>\n",
              "      <td>999068805.jpg</td>\n",
              "      <td>3</td>\n",
              "    </tr>\n",
              "    <tr>\n",
              "      <th>21393</th>\n",
              "      <td>999329392.jpg</td>\n",
              "      <td>3</td>\n",
              "    </tr>\n",
              "    <tr>\n",
              "      <th>21394</th>\n",
              "      <td>999474432.jpg</td>\n",
              "      <td>1</td>\n",
              "    </tr>\n",
              "    <tr>\n",
              "      <th>21395</th>\n",
              "      <td>999616605.jpg</td>\n",
              "      <td>4</td>\n",
              "    </tr>\n",
              "    <tr>\n",
              "      <th>21396</th>\n",
              "      <td>999998473.jpg</td>\n",
              "      <td>4</td>\n",
              "    </tr>\n",
              "  </tbody>\n",
              "</table>\n",
              "<p>21397 rows × 2 columns</p>\n",
              "</div>\n",
              "      <button class=\"colab-df-convert\" onclick=\"convertToInteractive('df-678b7f02-95eb-4e5e-abd4-f9a7d1660bda')\"\n",
              "              title=\"Convert this dataframe to an interactive table.\"\n",
              "              style=\"display:none;\">\n",
              "        \n",
              "  <svg xmlns=\"http://www.w3.org/2000/svg\" height=\"24px\"viewBox=\"0 0 24 24\"\n",
              "       width=\"24px\">\n",
              "    <path d=\"M0 0h24v24H0V0z\" fill=\"none\"/>\n",
              "    <path d=\"M18.56 5.44l.94 2.06.94-2.06 2.06-.94-2.06-.94-.94-2.06-.94 2.06-2.06.94zm-11 1L8.5 8.5l.94-2.06 2.06-.94-2.06-.94L8.5 2.5l-.94 2.06-2.06.94zm10 10l.94 2.06.94-2.06 2.06-.94-2.06-.94-.94-2.06-.94 2.06-2.06.94z\"/><path d=\"M17.41 7.96l-1.37-1.37c-.4-.4-.92-.59-1.43-.59-.52 0-1.04.2-1.43.59L10.3 9.45l-7.72 7.72c-.78.78-.78 2.05 0 2.83L4 21.41c.39.39.9.59 1.41.59.51 0 1.02-.2 1.41-.59l7.78-7.78 2.81-2.81c.8-.78.8-2.07 0-2.86zM5.41 20L4 18.59l7.72-7.72 1.47 1.35L5.41 20z\"/>\n",
              "  </svg>\n",
              "      </button>\n",
              "      \n",
              "  <style>\n",
              "    .colab-df-container {\n",
              "      display:flex;\n",
              "      flex-wrap:wrap;\n",
              "      gap: 12px;\n",
              "    }\n",
              "\n",
              "    .colab-df-convert {\n",
              "      background-color: #E8F0FE;\n",
              "      border: none;\n",
              "      border-radius: 50%;\n",
              "      cursor: pointer;\n",
              "      display: none;\n",
              "      fill: #1967D2;\n",
              "      height: 32px;\n",
              "      padding: 0 0 0 0;\n",
              "      width: 32px;\n",
              "    }\n",
              "\n",
              "    .colab-df-convert:hover {\n",
              "      background-color: #E2EBFA;\n",
              "      box-shadow: 0px 1px 2px rgba(60, 64, 67, 0.3), 0px 1px 3px 1px rgba(60, 64, 67, 0.15);\n",
              "      fill: #174EA6;\n",
              "    }\n",
              "\n",
              "    [theme=dark] .colab-df-convert {\n",
              "      background-color: #3B4455;\n",
              "      fill: #D2E3FC;\n",
              "    }\n",
              "\n",
              "    [theme=dark] .colab-df-convert:hover {\n",
              "      background-color: #434B5C;\n",
              "      box-shadow: 0px 1px 3px 1px rgba(0, 0, 0, 0.15);\n",
              "      filter: drop-shadow(0px 1px 2px rgba(0, 0, 0, 0.3));\n",
              "      fill: #FFFFFF;\n",
              "    }\n",
              "  </style>\n",
              "\n",
              "      <script>\n",
              "        const buttonEl =\n",
              "          document.querySelector('#df-678b7f02-95eb-4e5e-abd4-f9a7d1660bda button.colab-df-convert');\n",
              "        buttonEl.style.display =\n",
              "          google.colab.kernel.accessAllowed ? 'block' : 'none';\n",
              "\n",
              "        async function convertToInteractive(key) {\n",
              "          const element = document.querySelector('#df-678b7f02-95eb-4e5e-abd4-f9a7d1660bda');\n",
              "          const dataTable =\n",
              "            await google.colab.kernel.invokeFunction('convertToInteractive',\n",
              "                                                     [key], {});\n",
              "          if (!dataTable) return;\n",
              "\n",
              "          const docLinkHtml = 'Like what you see? Visit the ' +\n",
              "            '<a target=\"_blank\" href=https://colab.research.google.com/notebooks/data_table.ipynb>data table notebook</a>'\n",
              "            + ' to learn more about interactive tables.';\n",
              "          element.innerHTML = '';\n",
              "          dataTable['output_type'] = 'display_data';\n",
              "          await google.colab.output.renderOutput(dataTable, element);\n",
              "          const docLink = document.createElement('div');\n",
              "          docLink.innerHTML = docLinkHtml;\n",
              "          element.appendChild(docLink);\n",
              "        }\n",
              "      </script>\n",
              "    </div>\n",
              "  </div>\n",
              "  "
            ],
            "text/plain": [
              "             image_id  label\n",
              "0      1000015157.jpg      0\n",
              "1      1000201771.jpg      3\n",
              "2       100042118.jpg      1\n",
              "3      1000723321.jpg      1\n",
              "4      1000812911.jpg      3\n",
              "...               ...    ...\n",
              "21392   999068805.jpg      3\n",
              "21393   999329392.jpg      3\n",
              "21394   999474432.jpg      1\n",
              "21395   999616605.jpg      4\n",
              "21396   999998473.jpg      4\n",
              "\n",
              "[21397 rows x 2 columns]"
            ]
          },
          "metadata": {},
          "execution_count": 49
        }
      ]
    },
    {
      "cell_type": "code",
      "source": [
        "os.getcwd()"
      ],
      "metadata": {
        "colab": {
          "base_uri": "https://localhost:8080/",
          "height": 35
        },
        "id": "dbH8xh11SdsG",
        "outputId": "6f3a0de0-ef2b-4a5a-e935-288a8ee41860"
      },
      "execution_count": 50,
      "outputs": [
        {
          "output_type": "execute_result",
          "data": {
            "application/vnd.google.colaboratory.intrinsic+json": {
              "type": "string"
            },
            "text/plain": [
              "'/content'"
            ]
          },
          "metadata": {},
          "execution_count": 50
        }
      ]
    },
    {
      "cell_type": "code",
      "execution_count": 51,
      "metadata": {
        "colab": {
          "base_uri": "https://localhost:8080/",
          "height": 224
        },
        "id": "tbcJS0VkJNh1",
        "outputId": "270119d1-fb4d-4c52-a27d-7bc832630da4"
      },
      "outputs": [
        {
          "output_type": "stream",
          "name": "stdout",
          "text": [
            "GCS: train images: 21397\n"
          ]
        },
        {
          "output_type": "display_data",
          "data": {
            "text/html": [
              "\n",
              "  <div id=\"df-f49adbc3-5ffa-4ff7-ab83-eacd2dca7b0e\">\n",
              "    <div class=\"colab-df-container\">\n",
              "      <div>\n",
              "<style scoped>\n",
              "    .dataframe tbody tr th:only-of-type {\n",
              "        vertical-align: middle;\n",
              "    }\n",
              "\n",
              "    .dataframe tbody tr th {\n",
              "        vertical-align: top;\n",
              "    }\n",
              "\n",
              "    .dataframe thead th {\n",
              "        text-align: right;\n",
              "    }\n",
              "</style>\n",
              "<table border=\"1\" class=\"dataframe\">\n",
              "  <thead>\n",
              "    <tr style=\"text-align: right;\">\n",
              "      <th></th>\n",
              "      <th>image_id</th>\n",
              "      <th>label</th>\n",
              "    </tr>\n",
              "  </thead>\n",
              "  <tbody>\n",
              "    <tr>\n",
              "      <th>0</th>\n",
              "      <td>1000015157.jpg</td>\n",
              "      <td>0</td>\n",
              "    </tr>\n",
              "    <tr>\n",
              "      <th>1</th>\n",
              "      <td>1000201771.jpg</td>\n",
              "      <td>3</td>\n",
              "    </tr>\n",
              "    <tr>\n",
              "      <th>2</th>\n",
              "      <td>100042118.jpg</td>\n",
              "      <td>1</td>\n",
              "    </tr>\n",
              "    <tr>\n",
              "      <th>3</th>\n",
              "      <td>1000723321.jpg</td>\n",
              "      <td>1</td>\n",
              "    </tr>\n",
              "    <tr>\n",
              "      <th>4</th>\n",
              "      <td>1000812911.jpg</td>\n",
              "      <td>3</td>\n",
              "    </tr>\n",
              "  </tbody>\n",
              "</table>\n",
              "</div>\n",
              "      <button class=\"colab-df-convert\" onclick=\"convertToInteractive('df-f49adbc3-5ffa-4ff7-ab83-eacd2dca7b0e')\"\n",
              "              title=\"Convert this dataframe to an interactive table.\"\n",
              "              style=\"display:none;\">\n",
              "        \n",
              "  <svg xmlns=\"http://www.w3.org/2000/svg\" height=\"24px\"viewBox=\"0 0 24 24\"\n",
              "       width=\"24px\">\n",
              "    <path d=\"M0 0h24v24H0V0z\" fill=\"none\"/>\n",
              "    <path d=\"M18.56 5.44l.94 2.06.94-2.06 2.06-.94-2.06-.94-.94-2.06-.94 2.06-2.06.94zm-11 1L8.5 8.5l.94-2.06 2.06-.94-2.06-.94L8.5 2.5l-.94 2.06-2.06.94zm10 10l.94 2.06.94-2.06 2.06-.94-2.06-.94-.94-2.06-.94 2.06-2.06.94z\"/><path d=\"M17.41 7.96l-1.37-1.37c-.4-.4-.92-.59-1.43-.59-.52 0-1.04.2-1.43.59L10.3 9.45l-7.72 7.72c-.78.78-.78 2.05 0 2.83L4 21.41c.39.39.9.59 1.41.59.51 0 1.02-.2 1.41-.59l7.78-7.78 2.81-2.81c.8-.78.8-2.07 0-2.86zM5.41 20L4 18.59l7.72-7.72 1.47 1.35L5.41 20z\"/>\n",
              "  </svg>\n",
              "      </button>\n",
              "      \n",
              "  <style>\n",
              "    .colab-df-container {\n",
              "      display:flex;\n",
              "      flex-wrap:wrap;\n",
              "      gap: 12px;\n",
              "    }\n",
              "\n",
              "    .colab-df-convert {\n",
              "      background-color: #E8F0FE;\n",
              "      border: none;\n",
              "      border-radius: 50%;\n",
              "      cursor: pointer;\n",
              "      display: none;\n",
              "      fill: #1967D2;\n",
              "      height: 32px;\n",
              "      padding: 0 0 0 0;\n",
              "      width: 32px;\n",
              "    }\n",
              "\n",
              "    .colab-df-convert:hover {\n",
              "      background-color: #E2EBFA;\n",
              "      box-shadow: 0px 1px 2px rgba(60, 64, 67, 0.3), 0px 1px 3px 1px rgba(60, 64, 67, 0.15);\n",
              "      fill: #174EA6;\n",
              "    }\n",
              "\n",
              "    [theme=dark] .colab-df-convert {\n",
              "      background-color: #3B4455;\n",
              "      fill: #D2E3FC;\n",
              "    }\n",
              "\n",
              "    [theme=dark] .colab-df-convert:hover {\n",
              "      background-color: #434B5C;\n",
              "      box-shadow: 0px 1px 3px 1px rgba(0, 0, 0, 0.15);\n",
              "      filter: drop-shadow(0px 1px 2px rgba(0, 0, 0, 0.3));\n",
              "      fill: #FFFFFF;\n",
              "    }\n",
              "  </style>\n",
              "\n",
              "      <script>\n",
              "        const buttonEl =\n",
              "          document.querySelector('#df-f49adbc3-5ffa-4ff7-ab83-eacd2dca7b0e button.colab-df-convert');\n",
              "        buttonEl.style.display =\n",
              "          google.colab.kernel.accessAllowed ? 'block' : 'none';\n",
              "\n",
              "        async function convertToInteractive(key) {\n",
              "          const element = document.querySelector('#df-f49adbc3-5ffa-4ff7-ab83-eacd2dca7b0e');\n",
              "          const dataTable =\n",
              "            await google.colab.kernel.invokeFunction('convertToInteractive',\n",
              "                                                     [key], {});\n",
              "          if (!dataTable) return;\n",
              "\n",
              "          const docLinkHtml = 'Like what you see? Visit the ' +\n",
              "            '<a target=\"_blank\" href=https://colab.research.google.com/notebooks/data_table.ipynb>data table notebook</a>'\n",
              "            + ' to learn more about interactive tables.';\n",
              "          element.innerHTML = '';\n",
              "          dataTable['output_type'] = 'display_data';\n",
              "          await google.colab.output.renderOutput(dataTable, element);\n",
              "          const docLink = document.createElement('div');\n",
              "          docLink.innerHTML = docLinkHtml;\n",
              "          element.appendChild(docLink);\n",
              "        }\n",
              "      </script>\n",
              "    </div>\n",
              "  </div>\n",
              "  "
            ],
            "text/plain": [
              "         image_id  label\n",
              "0  1000015157.jpg      0\n",
              "1  1000201771.jpg      3\n",
              "2   100042118.jpg      1\n",
              "3  1000723321.jpg      1\n",
              "4  1000812911.jpg      3"
            ]
          },
          "metadata": {}
        }
      ],
      "source": [
        "TRAINING_FILENAMES = tf.io.gfile.glob('/content'+'/*.tfrec')\n",
        "NUM_TRAINING_IMAGES = count_data_items(TRAINING_FILENAMES)\n",
        "\n",
        "print(f'GCS: train images: {NUM_TRAINING_IMAGES}')\n",
        "display(train.head())\n",
        "\n",
        "CLASSES = ['Cassava Bacterial Blight', \n",
        "           'Cassava Brown Streak Disease', \n",
        "           'Cassava Green Mottle', \n",
        "           'Cassava Mosaic Disease', \n",
        "           'Healthy']"
      ]
    },
    {
      "cell_type": "code",
      "source": [
        "TRAINING_FILENAMES"
      ],
      "metadata": {
        "colab": {
          "base_uri": "https://localhost:8080/"
        },
        "id": "fe9mDIEhSx2x",
        "outputId": "0ab52124-e417-4131-b317-e97fd3925bc1"
      },
      "execution_count": 52,
      "outputs": [
        {
          "output_type": "execute_result",
          "data": {
            "text/plain": [
              "['/content/ld_train10-1338.tfrec',\n",
              " '/content/ld_train02-1338.tfrec',\n",
              " '/content/ld_train11-1338.tfrec',\n",
              " '/content/ld_train04-1338.tfrec',\n",
              " '/content/ld_train05-1338.tfrec',\n",
              " '/content/ld_train09-1338.tfrec',\n",
              " '/content/ld_train15-1327.tfrec',\n",
              " '/content/ld_train01-1338.tfrec',\n",
              " '/content/ld_train07-1338.tfrec',\n",
              " '/content/ld_train14-1338.tfrec',\n",
              " '/content/ld_train06-1338.tfrec',\n",
              " '/content/ld_train03-1338.tfrec',\n",
              " '/content/ld_train08-1338.tfrec',\n",
              " '/content/ld_train13-1338.tfrec',\n",
              " '/content/ld_train00-1338.tfrec',\n",
              " '/content/ld_train12-1338.tfrec']"
            ]
          },
          "metadata": {},
          "execution_count": 52
        }
      ]
    },
    {
      "cell_type": "code",
      "execution_count": 53,
      "metadata": {
        "id": "7MoZTxikJX4S"
      },
      "outputs": [],
      "source": [
        "def data_augment(image, label):\n",
        "    p_rotation = tf.random.uniform([], 0, 1.0, dtype=tf.float32)\n",
        "    p_spatial = tf.random.uniform([], 0, 1.0, dtype=tf.float32)\n",
        "    p_rotate = tf.random.uniform([], 0, 1.0, dtype=tf.float32)\n",
        "    p_pixel_1 = tf.random.uniform([], 0, 1.0, dtype=tf.float32)\n",
        "    p_pixel_2 = tf.random.uniform([], 0, 1.0, dtype=tf.float32)\n",
        "    p_pixel_3 = tf.random.uniform([], 0, 1.0, dtype=tf.float32)\n",
        "    p_shear = tf.random.uniform([], 0, 1.0, dtype=tf.float32)\n",
        "    p_crop = tf.random.uniform([], 0, 1.0, dtype=tf.float32)\n",
        "    \n",
        "    # Shear\n",
        "    if p_shear > .2:\n",
        "        if p_shear > .6:\n",
        "            image = transform_shear(image, HEIGHT, shear=20.)\n",
        "        else:\n",
        "            image = transform_shear(image, HEIGHT, shear=-20.)\n",
        "            \n",
        "    # Rotation\n",
        "    if p_rotation > .2:\n",
        "        if p_rotation > .6:\n",
        "            image = transform_rotation(image, HEIGHT, rotation=45.)\n",
        "        else:\n",
        "            image = transform_rotation(image, HEIGHT, rotation=-45.)\n",
        "            \n",
        "    # Flips\n",
        "    image = tf.image.random_flip_left_right(image)\n",
        "    image = tf.image.random_flip_up_down(image)\n",
        "    if p_spatial > .75:\n",
        "        image = tf.image.transpose(image)\n",
        "        \n",
        "    # Rotates\n",
        "    if p_rotate > .75:\n",
        "        image = tf.image.rot90(image, k=3) # rotate 270º\n",
        "    elif p_rotate > .5:\n",
        "        image = tf.image.rot90(image, k=2) # rotate 180º\n",
        "    elif p_rotate > .25:\n",
        "        image = tf.image.rot90(image, k=1) # rotate 90º\n",
        "        \n",
        "    # Pixel-level transforms\n",
        "    if p_pixel_1 >= .4:\n",
        "        image = tf.image.random_saturation(image, lower=.7, upper=1.3)\n",
        "    if p_pixel_2 >= .4:\n",
        "        image = tf.image.random_contrast(image, lower=.8, upper=1.2)\n",
        "    if p_pixel_3 >= .4:\n",
        "        image = tf.image.random_brightness(image, max_delta=.1)\n",
        "        \n",
        "    # Crops\n",
        "    if p_crop > .7:\n",
        "        if p_crop > .9:\n",
        "            image = tf.image.central_crop(image, central_fraction=.6)\n",
        "        elif p_crop > .8:\n",
        "            image = tf.image.central_crop(image, central_fraction=.7)\n",
        "        else:\n",
        "            image = tf.image.central_crop(image, central_fraction=.8)\n",
        "    elif p_crop > .4:\n",
        "        crop_size = tf.random.uniform([], int(HEIGHT*.6), HEIGHT, dtype=tf.int32)\n",
        "        image = tf.image.random_crop(image, size=[crop_size, crop_size, CHANNELS])\n",
        "            \n",
        "    image = tf.image.resize(image, size=[HEIGHT, WIDTH])\n",
        "\n",
        "    return image, label"
      ]
    },
    {
      "cell_type": "code",
      "execution_count": 54,
      "metadata": {
        "id": "3CbCMjvrKtZ6"
      },
      "outputs": [],
      "source": [
        "# data augmentation @cdeotte kernel: https://www.kaggle.com/cdeotte/rotation-augmentation-gpu-tpu-0-96\n",
        "def transform_rotation(image, height, rotation):\n",
        "    # input image - is one image of size [dim,dim,3] not a batch of [b,dim,dim,3]\n",
        "    # output - image randomly rotated\n",
        "    DIM = height\n",
        "    XDIM = DIM%2 #fix for size 331\n",
        "    \n",
        "    rotation = rotation * tf.random.uniform([1],dtype='float32')\n",
        "    # CONVERT DEGREES TO RADIANS\n",
        "    rotation = math.pi * rotation / 180.\n",
        "    \n",
        "    # ROTATION MATRIX\n",
        "    c1 = tf.math.cos(rotation)\n",
        "    s1 = tf.math.sin(rotation)\n",
        "    one = tf.constant([1],dtype='float32')\n",
        "    zero = tf.constant([0],dtype='float32')\n",
        "    rotation_matrix = tf.reshape(tf.concat([c1,s1,zero, -s1,c1,zero, zero,zero,one],axis=0),[3,3])\n",
        "\n",
        "    # LIST DESTINATION PIXEL INDICES\n",
        "    x = tf.repeat( tf.range(DIM//2,-DIM//2,-1), DIM )\n",
        "    y = tf.tile( tf.range(-DIM//2,DIM//2),[DIM] )\n",
        "    z = tf.ones([DIM*DIM],dtype='int32')\n",
        "    idx = tf.stack( [x,y,z] )\n",
        "    \n",
        "    # ROTATE DESTINATION PIXELS ONTO ORIGIN PIXELS\n",
        "    idx2 = K.dot(rotation_matrix,tf.cast(idx,dtype='float32'))\n",
        "    idx2 = K.cast(idx2,dtype='int32')\n",
        "    idx2 = K.clip(idx2,-DIM//2+XDIM+1,DIM//2)\n",
        "    \n",
        "    # FIND ORIGIN PIXEL VALUES \n",
        "    idx3 = tf.stack( [DIM//2-idx2[0,], DIM//2-1+idx2[1,]] )\n",
        "    d = tf.gather_nd(image, tf.transpose(idx3))\n",
        "        \n",
        "    return tf.reshape(d,[DIM,DIM,3])\n",
        "\n",
        "def transform_shear(image, height, shear):\n",
        "    # input image - is one image of size [dim,dim,3] not a batch of [b,dim,dim,3]\n",
        "    # output - image randomly sheared\n",
        "    DIM = height\n",
        "    XDIM = DIM%2 #fix for size 331\n",
        "    \n",
        "    shear = shear * tf.random.uniform([1],dtype='float32')\n",
        "    shear = math.pi * shear / 180.\n",
        "        \n",
        "    # SHEAR MATRIX\n",
        "    one = tf.constant([1],dtype='float32')\n",
        "    zero = tf.constant([0],dtype='float32')\n",
        "    c2 = tf.math.cos(shear)\n",
        "    s2 = tf.math.sin(shear)\n",
        "    shear_matrix = tf.reshape(tf.concat([one,s2,zero, zero,c2,zero, zero,zero,one],axis=0),[3,3])    \n",
        "\n",
        "    # LIST DESTINATION PIXEL INDICES\n",
        "    x = tf.repeat( tf.range(DIM//2,-DIM//2,-1), DIM )\n",
        "    y = tf.tile( tf.range(-DIM//2,DIM//2),[DIM] )\n",
        "    z = tf.ones([DIM*DIM],dtype='int32')\n",
        "    idx = tf.stack( [x,y,z] )\n",
        "    \n",
        "    # ROTATE DESTINATION PIXELS ONTO ORIGIN PIXELS\n",
        "    idx2 = K.dot(shear_matrix,tf.cast(idx,dtype='float32'))\n",
        "    idx2 = K.cast(idx2,dtype='int32')\n",
        "    idx2 = K.clip(idx2,-DIM//2+XDIM+1,DIM//2)\n",
        "    \n",
        "    # FIND ORIGIN PIXEL VALUES \n",
        "    idx3 = tf.stack( [DIM//2-idx2[0,], DIM//2-1+idx2[1,]] )\n",
        "    d = tf.gather_nd(image, tf.transpose(idx3))\n",
        "        \n",
        "    return tf.reshape(d,[DIM,DIM,3])"
      ]
    },
    {
      "cell_type": "code",
      "execution_count": 55,
      "metadata": {
        "id": "ZYAT5rH0KwY5"
      },
      "outputs": [],
      "source": [
        "# Datasets utility functions\n",
        "def decode_image(image_data):\n",
        "    \"\"\"\n",
        "        1. Decode a JPEG-encoded image to a uint8 tensor.\n",
        "        2. Cast tensor to float and normalizes (range between 0 and 1).\n",
        "        3. Resize and reshape images to the expected size.\n",
        "    \"\"\"\n",
        "    image = tf.image.decode_jpeg(image_data, channels=3)\n",
        "    image = tf.cast(image, tf.float32) / 255.0\n",
        "                      \n",
        "    image = tf.image.resize(image, [HEIGHT, WIDTH])\n",
        "    image = tf.reshape(image, [HEIGHT, WIDTH, 3])\n",
        "    return image\n",
        "\n",
        "def read_tfrecord(example, labeled=True):\n",
        "    \"\"\"\n",
        "        1. Parse data based on the 'TFREC_FORMAT' map.\n",
        "        2. Decode image.\n",
        "        3. If 'labeled' returns (image, label) if not (image, name).\n",
        "    \"\"\"\n",
        "    if labeled:\n",
        "        TFREC_FORMAT = {\n",
        "            'image': tf.io.FixedLenFeature([], tf.string), \n",
        "            'target': tf.io.FixedLenFeature([], tf.int64), \n",
        "        }\n",
        "    else:\n",
        "        TFREC_FORMAT = {\n",
        "            'image': tf.io.FixedLenFeature([], tf.string), \n",
        "            'image_name': tf.io.FixedLenFeature([], tf.string), \n",
        "        }\n",
        "    example = tf.io.parse_single_example(example, TFREC_FORMAT)\n",
        "    image = decode_image(example['image'])\n",
        "    if labeled:\n",
        "        label_or_name = tf.cast(example['target'], tf.int32)\n",
        "    else:\n",
        "        label_or_name =  example['image_name']\n",
        "    return image, label_or_name\n",
        "\n",
        "def load_dataset(filenames, labeled=True, ordered=False):\n",
        "    \"\"\"\n",
        "        Create a Tensorflow dataset from TFRecords.\n",
        "    \"\"\"\n",
        "    ignore_order = tf.data.Options()\n",
        "    if not ordered:\n",
        "        ignore_order.experimental_deterministic = False\n",
        "\n",
        "    dataset = tf.data.TFRecordDataset(filenames, num_parallel_reads=AUTO)\n",
        "    dataset = dataset.with_options(ignore_order)\n",
        "    dataset = dataset.map(lambda x: read_tfrecord(x, labeled=labeled), num_parallel_calls=AUTO)\n",
        "    return dataset\n",
        "\n",
        "def get_dataset(FILENAMES, labeled=True, ordered=False, repeated=False, augment=False):\n",
        "    \"\"\"\n",
        "        Return a Tensorflow dataset ready for training or inference.\n",
        "    \"\"\"\n",
        "    dataset = load_dataset(FILENAMES, labeled=labeled, ordered=ordered)\n",
        "    if augment:\n",
        "        dataset = dataset.map(data_augment, num_parallel_calls=AUTO)\n",
        "    if repeated:\n",
        "        dataset = dataset.repeat()\n",
        "    if not ordered:\n",
        "        dataset = dataset.shuffle(2048)\n",
        "    dataset = dataset.batch(BATCH_SIZE)\n",
        "    dataset = dataset.prefetch(AUTO)\n",
        "    return dataset"
      ]
    },
    {
      "cell_type": "code",
      "execution_count": 56,
      "metadata": {
        "id": "SzidXOY9Ky7e"
      },
      "outputs": [],
      "source": [
        "# Visualization utility functions\n",
        "np.set_printoptions(threshold=15, linewidth=80)\n",
        "\n",
        "def batch_to_numpy_images_and_labels(data):\n",
        "    images, labels = data\n",
        "    numpy_images = images.numpy()\n",
        "    numpy_labels = labels.numpy()\n",
        "    if numpy_labels.dtype == object: # binary string in this case, these are image ID strings\n",
        "        numpy_labels = [None for _ in enumerate(numpy_images)]\n",
        "    # If no labels, only image IDs, return None for labels (this is the case for test data)\n",
        "    return numpy_images, numpy_labels\n",
        "\n",
        "def title_from_label_and_target(label, correct_label):\n",
        "    if correct_label is None:\n",
        "        return CLASSES[label], True\n",
        "    correct = (label == correct_label)\n",
        "    return \"{} [{}{}{}]\".format(CLASSES[label], 'OK' if correct else 'NO', u\"\\u2192\" if not correct else '',\n",
        "                                CLASSES[correct_label] if not correct else ''), correct\n",
        "\n",
        "def display_one_flower(image, title, subplot, red=False, titlesize=16):\n",
        "    plt.subplot(*subplot)\n",
        "    plt.axis('off')\n",
        "    plt.imshow(image)\n",
        "    if len(title) > 0:\n",
        "        plt.title(title, fontsize=int(titlesize) if not red else int(titlesize/1.2), color='red' if red else 'black', \n",
        "                  fontdict={'verticalalignment':'center'}, pad=int(titlesize/1.5))\n",
        "    return (subplot[0], subplot[1], subplot[2]+1)\n",
        "\n",
        "def display_batch_of_images(databatch, predictions=None):\n",
        "    \"\"\"This will work with:\n",
        "    display_batch_of_images(images)\n",
        "    display_batch_of_images(images, predictions)\n",
        "    display_batch_of_images((images, labels))\n",
        "    display_batch_of_images((images, labels), predictions)\n",
        "    \"\"\"\n",
        "    # data\n",
        "    images, labels = batch_to_numpy_images_and_labels(databatch)\n",
        "    if labels is None:\n",
        "        labels = [None for _ in enumerate(images)]\n",
        "        \n",
        "    # auto-squaring: this will drop data that does not fit into square or square-ish rectangle\n",
        "    rows = int(math.sqrt(len(images)))\n",
        "    cols = len(images)//rows\n",
        "        \n",
        "    # size and spacing\n",
        "    FIGSIZE = 13.0\n",
        "    SPACING = 0.1\n",
        "    subplot=(rows,cols,1)\n",
        "    if rows < cols:\n",
        "        plt.figure(figsize=(FIGSIZE,FIGSIZE/cols*rows))\n",
        "    else:\n",
        "        plt.figure(figsize=(FIGSIZE/rows*cols,FIGSIZE))\n",
        "    \n",
        "    # display\n",
        "    for i, (image, label) in enumerate(zip(images[:rows*cols], labels[:rows*cols])):\n",
        "        title = '' if label is None else CLASSES[label]\n",
        "        correct = True\n",
        "        if predictions is not None:\n",
        "            title, correct = title_from_label_and_target(predictions[i], label)\n",
        "        dynamic_titlesize = FIGSIZE*SPACING/max(rows,cols)*40+3 # magic formula tested to work from 1x1 to 10x10 images\n",
        "        subplot = display_one_flower(image, title, subplot, not correct, titlesize=dynamic_titlesize)\n",
        "    \n",
        "    #layout\n",
        "    plt.tight_layout()\n",
        "    if label is None and predictions is None:\n",
        "        plt.subplots_adjust(wspace=0, hspace=0)\n",
        "    else:\n",
        "        plt.subplots_adjust(wspace=SPACING, hspace=SPACING)\n",
        "    plt.show()\n",
        "    \n",
        "# Visualize model predictions\n",
        "def dataset_to_numpy_util(dataset, N):\n",
        "    dataset = dataset.unbatch().batch(N)\n",
        "    for images, labels in dataset:\n",
        "        numpy_images = images.numpy()\n",
        "        numpy_labels = labels.numpy()\n",
        "        break;  \n",
        "    return numpy_images, numpy_labels\n",
        "\n",
        "def title_from_label_and_target(label, correct_label):\n",
        "    label = np.argmax(label, axis=-1)\n",
        "    correct = (label == correct_label)\n",
        "    return \"{} [{}{}{}]\".format(label, str(correct), ', shoud be ' if not correct else '',\n",
        "                                correct_label if not correct else ''), correct\n",
        "\n",
        "def display_one_flower_eval(image, title, subplot, red=False):\n",
        "    plt.subplot(subplot)\n",
        "    plt.axis('off')\n",
        "    plt.imshow(image)\n",
        "    plt.title(title, fontsize=14, color='red' if red else 'black')\n",
        "    return subplot+1\n",
        "\n",
        "def display_9_images_with_predictions(images, predictions, labels):\n",
        "    subplot=331\n",
        "    plt.figure(figsize=(13,13))\n",
        "    for i, image in enumerate(images):\n",
        "        title, correct = title_from_label_and_target(predictions[i], labels[i])\n",
        "        subplot = display_one_flower_eval(image, title, subplot, not correct)\n",
        "        if i >= 8:\n",
        "            break;\n",
        "              \n",
        "    plt.tight_layout()\n",
        "    plt.subplots_adjust(wspace=0.1, hspace=0.1)\n",
        "    plt.show()\n",
        "\n",
        "\n",
        "# Model evaluation\n",
        "def plot_metrics(history):\n",
        "    metric_list = [m for m in list(history.keys()) if m is not 'lr']\n",
        "    size = len(metric_list)//2\n",
        "    fig, axes = plt.subplots(size, 1, sharex='col', figsize=(20, size * 4))\n",
        "    if size > 1:\n",
        "        axes = axes.flatten()\n",
        "    else:\n",
        "        axes = [axes]\n",
        "    \n",
        "    for index in range(len(metric_list)//2):\n",
        "        metric_name = metric_list[index]\n",
        "        val_metric_name = metric_list[index+size]\n",
        "        axes[index].plot(history[metric_name], label='Train %s' % metric_name)\n",
        "        axes[index].plot(history[val_metric_name], label='Validation %s' % metric_name)\n",
        "        axes[index].legend(loc='best', fontsize=16)\n",
        "        axes[index].set_title(metric_name)\n",
        "        if 'loss' in metric_name:\n",
        "            axes[index].axvline(np.argmin(history[metric_name]), linestyle='dashed')\n",
        "            axes[index].axvline(np.argmin(history[val_metric_name]), linestyle='dashed', color='orange')\n",
        "        else:\n",
        "            axes[index].axvline(np.argmax(history[metric_name]), linestyle='dashed')\n",
        "            axes[index].axvline(np.argmax(history[val_metric_name]), linestyle='dashed', color='orange')\n",
        "\n",
        "    plt.xlabel('Epochs', fontsize=16)\n",
        "    sns.despine()\n",
        "    plt.show()"
      ]
    },
    {
      "cell_type": "markdown",
      "metadata": {
        "id": "s_xvnueLK3AV"
      },
      "source": [
        "# EDA\n",
        "\n",
        "Class map  \n",
        ">0: Cassava Bacterial Blight (CBB)  \n",
        "1: Cassava Brown Streak Disease (CBSD)  \n",
        "2: Cassava Green Mottle (CGM)  \n",
        "3: Cassava Mosaic Disease (CMD)  \n",
        "4: Healthy"
      ]
    },
    {
      "cell_type": "code",
      "execution_count": 57,
      "metadata": {
        "colab": {
          "base_uri": "https://localhost:8080/",
          "height": 548
        },
        "id": "46lXHyChK02U",
        "outputId": "2dccd7f1-d549-47c6-d675-717a20bfcc0f"
      },
      "outputs": [
        {
          "output_type": "error",
          "ename": "UnimplementedError",
          "evalue": "ignored",
          "traceback": [
            "\u001b[0;31m---------------------------------------------------------------------------\u001b[0m",
            "\u001b[0;31mAttributeError\u001b[0m                            Traceback (most recent call last)",
            "\u001b[0;32m/usr/local/lib/python3.7/dist-packages/tensorflow/python/data/ops/iterator_ops.py\u001b[0m in \u001b[0;36m_next_internal\u001b[0;34m(self)\u001b[0m\n\u001b[1;32m    789\u001b[0m         \u001b[0;31m# Fast path for the case `self._structure` is not a nested structure.\u001b[0m\u001b[0;34m\u001b[0m\u001b[0;34m\u001b[0m\u001b[0;34m\u001b[0m\u001b[0m\n\u001b[0;32m--> 790\u001b[0;31m         \u001b[0;32mreturn\u001b[0m \u001b[0mself\u001b[0m\u001b[0;34m.\u001b[0m\u001b[0m_element_spec\u001b[0m\u001b[0;34m.\u001b[0m\u001b[0m_from_compatible_tensor_list\u001b[0m\u001b[0;34m(\u001b[0m\u001b[0mret\u001b[0m\u001b[0;34m)\u001b[0m  \u001b[0;31m# pylint: disable=protected-access\u001b[0m\u001b[0;34m\u001b[0m\u001b[0;34m\u001b[0m\u001b[0m\n\u001b[0m\u001b[1;32m    791\u001b[0m       \u001b[0;32mexcept\u001b[0m \u001b[0mAttributeError\u001b[0m\u001b[0;34m:\u001b[0m\u001b[0;34m\u001b[0m\u001b[0;34m\u001b[0m\u001b[0m\n",
            "\u001b[0;31mAttributeError\u001b[0m: 'tuple' object has no attribute '_from_compatible_tensor_list'",
            "\nDuring handling of the above exception, another exception occurred:\n",
            "\u001b[0;31mUnimplementedError\u001b[0m                        Traceback (most recent call last)",
            "\u001b[0;32m/usr/local/lib/python3.7/dist-packages/tensorflow/python/eager/context.py\u001b[0m in \u001b[0;36mexecution_mode\u001b[0;34m(mode)\u001b[0m\n\u001b[1;32m   2327\u001b[0m       \u001b[0mctx\u001b[0m\u001b[0;34m.\u001b[0m\u001b[0mexecutor\u001b[0m \u001b[0;34m=\u001b[0m \u001b[0mexecutor_new\u001b[0m\u001b[0;34m\u001b[0m\u001b[0;34m\u001b[0m\u001b[0m\n\u001b[0;32m-> 2328\u001b[0;31m       \u001b[0;32myield\u001b[0m\u001b[0;34m\u001b[0m\u001b[0;34m\u001b[0m\u001b[0m\n\u001b[0m\u001b[1;32m   2329\u001b[0m     \u001b[0;32mfinally\u001b[0m\u001b[0;34m:\u001b[0m\u001b[0;34m\u001b[0m\u001b[0;34m\u001b[0m\u001b[0m\n",
            "\u001b[0;32m/usr/local/lib/python3.7/dist-packages/tensorflow/python/data/ops/iterator_ops.py\u001b[0m in \u001b[0;36m_next_internal\u001b[0;34m(self)\u001b[0m\n\u001b[1;32m    791\u001b[0m       \u001b[0;32mexcept\u001b[0m \u001b[0mAttributeError\u001b[0m\u001b[0;34m:\u001b[0m\u001b[0;34m\u001b[0m\u001b[0;34m\u001b[0m\u001b[0m\n\u001b[0;32m--> 792\u001b[0;31m         \u001b[0;32mreturn\u001b[0m \u001b[0mstructure\u001b[0m\u001b[0;34m.\u001b[0m\u001b[0mfrom_compatible_tensor_list\u001b[0m\u001b[0;34m(\u001b[0m\u001b[0mself\u001b[0m\u001b[0;34m.\u001b[0m\u001b[0m_element_spec\u001b[0m\u001b[0;34m,\u001b[0m \u001b[0mret\u001b[0m\u001b[0;34m)\u001b[0m\u001b[0;34m\u001b[0m\u001b[0;34m\u001b[0m\u001b[0m\n\u001b[0m\u001b[1;32m    793\u001b[0m \u001b[0;34m\u001b[0m\u001b[0m\n",
            "\u001b[0;32m/usr/local/lib/python3.7/dist-packages/tensorflow/python/data/util/structure.py\u001b[0m in \u001b[0;36mfrom_compatible_tensor_list\u001b[0;34m(element_spec, tensor_list)\u001b[0m\n\u001b[1;32m    246\u001b[0m       \u001b[0;32mlambda\u001b[0m \u001b[0mspec\u001b[0m\u001b[0;34m,\u001b[0m \u001b[0mvalue\u001b[0m\u001b[0;34m:\u001b[0m \u001b[0mspec\u001b[0m\u001b[0;34m.\u001b[0m\u001b[0m_from_compatible_tensor_list\u001b[0m\u001b[0;34m(\u001b[0m\u001b[0mvalue\u001b[0m\u001b[0;34m)\u001b[0m\u001b[0;34m,\u001b[0m\u001b[0;34m\u001b[0m\u001b[0;34m\u001b[0m\u001b[0m\n\u001b[0;32m--> 247\u001b[0;31m       element_spec, tensor_list)\n\u001b[0m\u001b[1;32m    248\u001b[0m \u001b[0;34m\u001b[0m\u001b[0m\n",
            "\u001b[0;32m/usr/local/lib/python3.7/dist-packages/tensorflow/python/data/util/structure.py\u001b[0m in \u001b[0;36m_from_tensor_list_helper\u001b[0;34m(decode_fn, element_spec, tensor_list)\u001b[0m\n\u001b[1;32m    221\u001b[0m     \u001b[0mvalue\u001b[0m \u001b[0;34m=\u001b[0m \u001b[0mtensor_list\u001b[0m\u001b[0;34m[\u001b[0m\u001b[0mi\u001b[0m\u001b[0;34m:\u001b[0m\u001b[0mi\u001b[0m \u001b[0;34m+\u001b[0m \u001b[0mnum_flat_values\u001b[0m\u001b[0;34m]\u001b[0m\u001b[0;34m\u001b[0m\u001b[0;34m\u001b[0m\u001b[0m\n\u001b[0;32m--> 222\u001b[0;31m     \u001b[0mflat_ret\u001b[0m\u001b[0;34m.\u001b[0m\u001b[0mappend\u001b[0m\u001b[0;34m(\u001b[0m\u001b[0mdecode_fn\u001b[0m\u001b[0;34m(\u001b[0m\u001b[0mcomponent_spec\u001b[0m\u001b[0;34m,\u001b[0m \u001b[0mvalue\u001b[0m\u001b[0;34m)\u001b[0m\u001b[0;34m)\u001b[0m\u001b[0;34m\u001b[0m\u001b[0;34m\u001b[0m\u001b[0m\n\u001b[0m\u001b[1;32m    223\u001b[0m     \u001b[0mi\u001b[0m \u001b[0;34m+=\u001b[0m \u001b[0mnum_flat_values\u001b[0m\u001b[0;34m\u001b[0m\u001b[0;34m\u001b[0m\u001b[0m\n",
            "\u001b[0;32m/usr/local/lib/python3.7/dist-packages/tensorflow/python/data/util/structure.py\u001b[0m in \u001b[0;36m<lambda>\u001b[0;34m(spec, value)\u001b[0m\n\u001b[1;32m    245\u001b[0m   return _from_tensor_list_helper(\n\u001b[0;32m--> 246\u001b[0;31m       \u001b[0;32mlambda\u001b[0m \u001b[0mspec\u001b[0m\u001b[0;34m,\u001b[0m \u001b[0mvalue\u001b[0m\u001b[0;34m:\u001b[0m \u001b[0mspec\u001b[0m\u001b[0;34m.\u001b[0m\u001b[0m_from_compatible_tensor_list\u001b[0m\u001b[0;34m(\u001b[0m\u001b[0mvalue\u001b[0m\u001b[0;34m)\u001b[0m\u001b[0;34m,\u001b[0m\u001b[0;34m\u001b[0m\u001b[0;34m\u001b[0m\u001b[0m\n\u001b[0m\u001b[1;32m    247\u001b[0m       element_spec, tensor_list)\n",
            "\u001b[0;32m/usr/local/lib/python3.7/dist-packages/tensorflow/python/framework/tensor_spec.py\u001b[0m in \u001b[0;36m_from_compatible_tensor_list\u001b[0;34m(self, tensor_list)\u001b[0m\n\u001b[1;32m    204\u001b[0m     \u001b[0;32massert\u001b[0m \u001b[0mlen\u001b[0m\u001b[0;34m(\u001b[0m\u001b[0mtensor_list\u001b[0m\u001b[0;34m)\u001b[0m \u001b[0;34m==\u001b[0m \u001b[0;36m1\u001b[0m\u001b[0;34m\u001b[0m\u001b[0;34m\u001b[0m\u001b[0m\n\u001b[0;32m--> 205\u001b[0;31m     \u001b[0mtensor_list\u001b[0m\u001b[0;34m[\u001b[0m\u001b[0;36m0\u001b[0m\u001b[0;34m]\u001b[0m\u001b[0;34m.\u001b[0m\u001b[0mset_shape\u001b[0m\u001b[0;34m(\u001b[0m\u001b[0mself\u001b[0m\u001b[0;34m.\u001b[0m\u001b[0m_shape\u001b[0m\u001b[0;34m)\u001b[0m\u001b[0;34m\u001b[0m\u001b[0;34m\u001b[0m\u001b[0m\n\u001b[0m\u001b[1;32m    206\u001b[0m     \u001b[0;32mreturn\u001b[0m \u001b[0mtensor_list\u001b[0m\u001b[0;34m[\u001b[0m\u001b[0;36m0\u001b[0m\u001b[0;34m]\u001b[0m\u001b[0;34m\u001b[0m\u001b[0;34m\u001b[0m\u001b[0m\n",
            "\u001b[0;32m/usr/local/lib/python3.7/dist-packages/tensorflow/python/framework/ops.py\u001b[0m in \u001b[0;36mset_shape\u001b[0;34m(self, shape)\u001b[0m\n\u001b[1;32m   1291\u001b[0m   \u001b[0;32mdef\u001b[0m \u001b[0mset_shape\u001b[0m\u001b[0;34m(\u001b[0m\u001b[0mself\u001b[0m\u001b[0;34m,\u001b[0m \u001b[0mshape\u001b[0m\u001b[0;34m)\u001b[0m\u001b[0;34m:\u001b[0m\u001b[0;34m\u001b[0m\u001b[0;34m\u001b[0m\u001b[0m\n\u001b[0;32m-> 1292\u001b[0;31m     \u001b[0;32mif\u001b[0m \u001b[0;32mnot\u001b[0m \u001b[0mself\u001b[0m\u001b[0;34m.\u001b[0m\u001b[0mshape\u001b[0m\u001b[0;34m.\u001b[0m\u001b[0mis_compatible_with\u001b[0m\u001b[0;34m(\u001b[0m\u001b[0mshape\u001b[0m\u001b[0;34m)\u001b[0m\u001b[0;34m:\u001b[0m\u001b[0;34m\u001b[0m\u001b[0;34m\u001b[0m\u001b[0m\n\u001b[0m\u001b[1;32m   1293\u001b[0m       raise ValueError(\n",
            "\u001b[0;32m/usr/local/lib/python3.7/dist-packages/tensorflow/python/framework/ops.py\u001b[0m in \u001b[0;36mshape\u001b[0;34m(self)\u001b[0m\n\u001b[1;32m   1252\u001b[0m         \u001b[0;31m# `EagerTensor`, in C.\u001b[0m\u001b[0;34m\u001b[0m\u001b[0;34m\u001b[0m\u001b[0;34m\u001b[0m\u001b[0m\n\u001b[0;32m-> 1253\u001b[0;31m         \u001b[0mself\u001b[0m\u001b[0;34m.\u001b[0m\u001b[0m_tensor_shape\u001b[0m \u001b[0;34m=\u001b[0m \u001b[0mtensor_shape\u001b[0m\u001b[0;34m.\u001b[0m\u001b[0mTensorShape\u001b[0m\u001b[0;34m(\u001b[0m\u001b[0mself\u001b[0m\u001b[0;34m.\u001b[0m\u001b[0m_shape_tuple\u001b[0m\u001b[0;34m(\u001b[0m\u001b[0;34m)\u001b[0m\u001b[0;34m)\u001b[0m\u001b[0;34m\u001b[0m\u001b[0;34m\u001b[0m\u001b[0m\n\u001b[0m\u001b[1;32m   1254\u001b[0m       \u001b[0;32mexcept\u001b[0m \u001b[0mcore\u001b[0m\u001b[0;34m.\u001b[0m\u001b[0m_NotOkStatusException\u001b[0m \u001b[0;32mas\u001b[0m \u001b[0me\u001b[0m\u001b[0;34m:\u001b[0m\u001b[0;34m\u001b[0m\u001b[0;34m\u001b[0m\u001b[0m\n",
            "\u001b[0;31mUnimplementedError\u001b[0m: File system scheme '[local]' not implemented (file: '/content/ld_train10-1338.tfrec')",
            "\nDuring handling of the above exception, another exception occurred:\n",
            "\u001b[0;31mUnimplementedError\u001b[0m                        Traceback (most recent call last)",
            "\u001b[0;32m<ipython-input-57-6d9a68da5a9a>\u001b[0m in \u001b[0;36m<module>\u001b[0;34m()\u001b[0m\n\u001b[1;32m      2\u001b[0m \u001b[0mtrain_iter\u001b[0m \u001b[0;34m=\u001b[0m \u001b[0miter\u001b[0m\u001b[0;34m(\u001b[0m\u001b[0mtrain_dataset\u001b[0m\u001b[0;34m.\u001b[0m\u001b[0munbatch\u001b[0m\u001b[0;34m(\u001b[0m\u001b[0;34m)\u001b[0m\u001b[0;34m.\u001b[0m\u001b[0mbatch\u001b[0m\u001b[0;34m(\u001b[0m\u001b[0;36m20\u001b[0m\u001b[0;34m)\u001b[0m\u001b[0;34m)\u001b[0m\u001b[0;34m\u001b[0m\u001b[0;34m\u001b[0m\u001b[0m\n\u001b[1;32m      3\u001b[0m \u001b[0;34m\u001b[0m\u001b[0m\n\u001b[0;32m----> 4\u001b[0;31m \u001b[0mdisplay_batch_of_images\u001b[0m\u001b[0;34m(\u001b[0m\u001b[0mnext\u001b[0m\u001b[0;34m(\u001b[0m\u001b[0mtrain_iter\u001b[0m\u001b[0;34m)\u001b[0m\u001b[0;34m)\u001b[0m\u001b[0;34m\u001b[0m\u001b[0;34m\u001b[0m\u001b[0m\n\u001b[0m\u001b[1;32m      5\u001b[0m \u001b[0mdisplay_batch_of_images\u001b[0m\u001b[0;34m(\u001b[0m\u001b[0mnext\u001b[0m\u001b[0;34m(\u001b[0m\u001b[0mtrain_iter\u001b[0m\u001b[0;34m)\u001b[0m\u001b[0;34m)\u001b[0m\u001b[0;34m\u001b[0m\u001b[0;34m\u001b[0m\u001b[0m\n",
            "\u001b[0;32m/usr/local/lib/python3.7/dist-packages/tensorflow/python/data/ops/iterator_ops.py\u001b[0m in \u001b[0;36m__next__\u001b[0;34m(self)\u001b[0m\n\u001b[1;32m    798\u001b[0m   \u001b[0;32mdef\u001b[0m \u001b[0m__next__\u001b[0m\u001b[0;34m(\u001b[0m\u001b[0mself\u001b[0m\u001b[0;34m)\u001b[0m\u001b[0;34m:\u001b[0m\u001b[0;34m\u001b[0m\u001b[0;34m\u001b[0m\u001b[0m\n\u001b[1;32m    799\u001b[0m     \u001b[0;32mtry\u001b[0m\u001b[0;34m:\u001b[0m\u001b[0;34m\u001b[0m\u001b[0;34m\u001b[0m\u001b[0m\n\u001b[0;32m--> 800\u001b[0;31m       \u001b[0;32mreturn\u001b[0m \u001b[0mself\u001b[0m\u001b[0;34m.\u001b[0m\u001b[0m_next_internal\u001b[0m\u001b[0;34m(\u001b[0m\u001b[0;34m)\u001b[0m\u001b[0;34m\u001b[0m\u001b[0;34m\u001b[0m\u001b[0m\n\u001b[0m\u001b[1;32m    801\u001b[0m     \u001b[0;32mexcept\u001b[0m \u001b[0merrors\u001b[0m\u001b[0;34m.\u001b[0m\u001b[0mOutOfRangeError\u001b[0m\u001b[0;34m:\u001b[0m\u001b[0;34m\u001b[0m\u001b[0;34m\u001b[0m\u001b[0m\n\u001b[1;32m    802\u001b[0m       \u001b[0;32mraise\u001b[0m \u001b[0mStopIteration\u001b[0m\u001b[0;34m\u001b[0m\u001b[0;34m\u001b[0m\u001b[0m\n",
            "\u001b[0;32m/usr/local/lib/python3.7/dist-packages/tensorflow/python/data/ops/iterator_ops.py\u001b[0m in \u001b[0;36m_next_internal\u001b[0;34m(self)\u001b[0m\n\u001b[1;32m    790\u001b[0m         \u001b[0;32mreturn\u001b[0m \u001b[0mself\u001b[0m\u001b[0;34m.\u001b[0m\u001b[0m_element_spec\u001b[0m\u001b[0;34m.\u001b[0m\u001b[0m_from_compatible_tensor_list\u001b[0m\u001b[0;34m(\u001b[0m\u001b[0mret\u001b[0m\u001b[0;34m)\u001b[0m  \u001b[0;31m# pylint: disable=protected-access\u001b[0m\u001b[0;34m\u001b[0m\u001b[0;34m\u001b[0m\u001b[0m\n\u001b[1;32m    791\u001b[0m       \u001b[0;32mexcept\u001b[0m \u001b[0mAttributeError\u001b[0m\u001b[0;34m:\u001b[0m\u001b[0;34m\u001b[0m\u001b[0;34m\u001b[0m\u001b[0m\n\u001b[0;32m--> 792\u001b[0;31m         \u001b[0;32mreturn\u001b[0m \u001b[0mstructure\u001b[0m\u001b[0;34m.\u001b[0m\u001b[0mfrom_compatible_tensor_list\u001b[0m\u001b[0;34m(\u001b[0m\u001b[0mself\u001b[0m\u001b[0;34m.\u001b[0m\u001b[0m_element_spec\u001b[0m\u001b[0;34m,\u001b[0m \u001b[0mret\u001b[0m\u001b[0;34m)\u001b[0m\u001b[0;34m\u001b[0m\u001b[0;34m\u001b[0m\u001b[0m\n\u001b[0m\u001b[1;32m    793\u001b[0m \u001b[0;34m\u001b[0m\u001b[0m\n\u001b[1;32m    794\u001b[0m   \u001b[0;34m@\u001b[0m\u001b[0mproperty\u001b[0m\u001b[0;34m\u001b[0m\u001b[0;34m\u001b[0m\u001b[0m\n",
            "\u001b[0;32m/usr/lib/python3.7/contextlib.py\u001b[0m in \u001b[0;36m__exit__\u001b[0;34m(self, type, value, traceback)\u001b[0m\n\u001b[1;32m    128\u001b[0m                 \u001b[0mvalue\u001b[0m \u001b[0;34m=\u001b[0m \u001b[0mtype\u001b[0m\u001b[0;34m(\u001b[0m\u001b[0;34m)\u001b[0m\u001b[0;34m\u001b[0m\u001b[0;34m\u001b[0m\u001b[0m\n\u001b[1;32m    129\u001b[0m             \u001b[0;32mtry\u001b[0m\u001b[0;34m:\u001b[0m\u001b[0;34m\u001b[0m\u001b[0;34m\u001b[0m\u001b[0m\n\u001b[0;32m--> 130\u001b[0;31m                 \u001b[0mself\u001b[0m\u001b[0;34m.\u001b[0m\u001b[0mgen\u001b[0m\u001b[0;34m.\u001b[0m\u001b[0mthrow\u001b[0m\u001b[0;34m(\u001b[0m\u001b[0mtype\u001b[0m\u001b[0;34m,\u001b[0m \u001b[0mvalue\u001b[0m\u001b[0;34m,\u001b[0m \u001b[0mtraceback\u001b[0m\u001b[0;34m)\u001b[0m\u001b[0;34m\u001b[0m\u001b[0;34m\u001b[0m\u001b[0m\n\u001b[0m\u001b[1;32m    131\u001b[0m             \u001b[0;32mexcept\u001b[0m \u001b[0mStopIteration\u001b[0m \u001b[0;32mas\u001b[0m \u001b[0mexc\u001b[0m\u001b[0;34m:\u001b[0m\u001b[0;34m\u001b[0m\u001b[0;34m\u001b[0m\u001b[0m\n\u001b[1;32m    132\u001b[0m                 \u001b[0;31m# Suppress StopIteration *unless* it's the same exception that\u001b[0m\u001b[0;34m\u001b[0m\u001b[0;34m\u001b[0m\u001b[0;34m\u001b[0m\u001b[0m\n",
            "\u001b[0;32m/usr/local/lib/python3.7/dist-packages/tensorflow/python/eager/context.py\u001b[0m in \u001b[0;36mexecution_mode\u001b[0;34m(mode)\u001b[0m\n\u001b[1;32m   2329\u001b[0m     \u001b[0;32mfinally\u001b[0m\u001b[0;34m:\u001b[0m\u001b[0;34m\u001b[0m\u001b[0;34m\u001b[0m\u001b[0m\n\u001b[1;32m   2330\u001b[0m       \u001b[0mctx\u001b[0m\u001b[0;34m.\u001b[0m\u001b[0mexecutor\u001b[0m \u001b[0;34m=\u001b[0m \u001b[0mexecutor_old\u001b[0m\u001b[0;34m\u001b[0m\u001b[0;34m\u001b[0m\u001b[0m\n\u001b[0;32m-> 2331\u001b[0;31m       \u001b[0mexecutor_new\u001b[0m\u001b[0;34m.\u001b[0m\u001b[0mwait\u001b[0m\u001b[0;34m(\u001b[0m\u001b[0;34m)\u001b[0m\u001b[0;34m\u001b[0m\u001b[0;34m\u001b[0m\u001b[0m\n\u001b[0m\u001b[1;32m   2332\u001b[0m \u001b[0;34m\u001b[0m\u001b[0m\n\u001b[1;32m   2333\u001b[0m \u001b[0;34m\u001b[0m\u001b[0m\n",
            "\u001b[0;32m/usr/local/lib/python3.7/dist-packages/tensorflow/python/eager/executor.py\u001b[0m in \u001b[0;36mwait\u001b[0;34m(self)\u001b[0m\n\u001b[1;32m     67\u001b[0m   \u001b[0;32mdef\u001b[0m \u001b[0mwait\u001b[0m\u001b[0;34m(\u001b[0m\u001b[0mself\u001b[0m\u001b[0;34m)\u001b[0m\u001b[0;34m:\u001b[0m\u001b[0;34m\u001b[0m\u001b[0;34m\u001b[0m\u001b[0m\n\u001b[1;32m     68\u001b[0m     \u001b[0;34m\"\"\"Waits for ops dispatched in this executor to finish.\"\"\"\u001b[0m\u001b[0;34m\u001b[0m\u001b[0;34m\u001b[0m\u001b[0m\n\u001b[0;32m---> 69\u001b[0;31m     \u001b[0mpywrap_tfe\u001b[0m\u001b[0;34m.\u001b[0m\u001b[0mTFE_ExecutorWaitForAllPendingNodes\u001b[0m\u001b[0;34m(\u001b[0m\u001b[0mself\u001b[0m\u001b[0;34m.\u001b[0m\u001b[0m_handle\u001b[0m\u001b[0;34m)\u001b[0m\u001b[0;34m\u001b[0m\u001b[0;34m\u001b[0m\u001b[0m\n\u001b[0m\u001b[1;32m     70\u001b[0m \u001b[0;34m\u001b[0m\u001b[0m\n\u001b[1;32m     71\u001b[0m   \u001b[0;32mdef\u001b[0m \u001b[0mclear_error\u001b[0m\u001b[0;34m(\u001b[0m\u001b[0mself\u001b[0m\u001b[0;34m)\u001b[0m\u001b[0;34m:\u001b[0m\u001b[0;34m\u001b[0m\u001b[0;34m\u001b[0m\u001b[0m\n",
            "\u001b[0;31mUnimplementedError\u001b[0m: File system scheme '[local]' not implemented (file: '/content/ld_train10-1338.tfrec')"
          ]
        }
      ],
      "source": [
        "train_dataset = get_dataset(TRAINING_FILENAMES, ordered=True)\n",
        "train_iter = iter(train_dataset.unbatch().batch(20))\n",
        "\n",
        "display_batch_of_images(next(train_iter))\n",
        "display_batch_of_images(next(train_iter))"
      ]
    },
    {
      "cell_type": "markdown",
      "source": [
        "여기서 중요한 것은 이미지 품질이 데이터 세트에 대해 매우 일관성이 있는 것처럼 보인다는 것입니다. 이렇게 하면 모델을 일반화하기가 더 쉬워집니다.\n",
        "\n",
        "다른 한편으로, 어떤 이미지는 많은 잎을 가지고 있고, 어떤 것은 식물에서 멀리 떨어져 있고, 어떤 것은 잎이 전혀 없습니다"
      ],
      "metadata": {
        "id": "j4wkUNVFLsL5"
      }
    },
    {
      "cell_type": "code",
      "execution_count": 32,
      "metadata": {
        "id": "g1f8UCcmLaM1",
        "colab": {
          "base_uri": "https://localhost:8080/",
          "height": 452
        },
        "outputId": "db0635a7-16cb-4877-8d43-ebbf2488e727"
      },
      "outputs": [
        {
          "output_type": "display_data",
          "data": {
            "image/png": "[encoded data removed]",
            "text/plain": [
              "<Figure size 1296x720 with 1 Axes>"
            ]
          },
          "metadata": {
            "needs_background": "light"
          }
        }
      ],
      "source": [
        "label_count = train.groupby('label', as_index=False).count()\n",
        "label_count.rename(columns={'image_id': 'Count', 'label': 'Label'}, inplace=True)\n",
        "label_count['Label'] = label_count['Label'].apply(lambda x: CLASSES[x])\n",
        "\n",
        "fig, ax = plt.subplots(1, 1, figsize=(18, 10))\n",
        "ax = sns.barplot(x=label_count['Count'], y=label_count['Label'], palette='viridis')\n",
        "ax.tick_params(labelsize=16)\n",
        "\n",
        "plt.show()"
      ]
    },
    {
      "cell_type": "markdown",
      "source": [
        "데이터 세트가 매우 불균형한 것을 볼 수 있듯이 대부분의 샘플은 Cassava Mosaic Disease에 속하지만 다른 모든 클래스 크기는 훨씬 더 가깝습니다."
      ],
      "metadata": {
        "id": "ACIzPtleL1Rx"
      }
    },
    {
      "cell_type": "markdown",
      "source": [
        "**Learning rate schedule**\n",
        "\n",
        "워밍업 단계와 함께 코사인 learning rate를 사용할 것입니다. 사전 훈련된 모델을 사용하기 때문에 이것은 좋은 생각일 수 있습니다.  \n",
        "워밍업 단계는 사전 훈련된 가중치 저하로 인한 결과를 방지하는 데 유용할 것입니다.  \n",
        "치명적인 망각의 경우 일정 동안 학습률이 매우 낮은 값으로 천천히 감소하므로 모델이 더 안정적인 가중치에 착륙하는 데 도움이 됩니다."
      ],
      "metadata": {
        "id": "1JdZu5rAL7Qp"
      }
    },
    {
      "cell_type": "code",
      "source": [
        "LR_START = 1e-8\n",
        "LR_MIN = 1e-8\n",
        "LR_MAX = LEARNING_RATE\n",
        "LR_RAMPUP_EPOCHS = 3\n",
        "LR_SUSTAIN_EPOCHS = 0\n",
        "N_CYCLES = .5\n",
        "\n",
        "\n",
        "def lrfn(epoch):\n",
        "    if epoch < LR_RAMPUP_EPOCHS:\n",
        "        lr = (LR_MAX - LR_START) / LR_RAMPUP_EPOCHS * epoch + LR_START\n",
        "    elif epoch < LR_RAMPUP_EPOCHS + LR_SUSTAIN_EPOCHS:\n",
        "        lr = LR_MAX\n",
        "    else:\n",
        "        progress = (epoch - LR_RAMPUP_EPOCHS - LR_SUSTAIN_EPOCHS) / (EPOCHS - LR_RAMPUP_EPOCHS - LR_SUSTAIN_EPOCHS)\n",
        "        lr = LR_MAX * (0.5 * (1.0 + tf.math.cos(math.pi * N_CYCLES * 2.0 * progress)))\n",
        "        if LR_MIN is not None:\n",
        "            lr = tf.math.maximum(LR_MIN, lr)\n",
        "            \n",
        "    return lr\n",
        "\n",
        "rng = [i for i in range(EPOCHS)]\n",
        "y = [lrfn(x) for x in rng]\n",
        "\n",
        "sns.set(style='whitegrid')\n",
        "fig, ax = plt.subplots(figsize=(20, 6))\n",
        "plt.plot(rng, y)\n",
        "\n",
        "print(f'{EPOCHS} total epochs and {NUM_TRAINING_IMAGES//BATCH_SIZE} steps per epoch')\n",
        "print(f'Learning rate schedule: {y[0]:.3g} to {max(y):.3g} to {y[-1]:.3g}')"
      ],
      "metadata": {
        "colab": {
          "base_uri": "https://localhost:8080/",
          "height": 356
        },
        "id": "30sHf0e4Lxup",
        "outputId": "bb5cfad2-40eb-4225-e93c-2f0322c9b2d5"
      },
      "execution_count": 33,
      "outputs": [
        {
          "output_type": "stream",
          "name": "stdout",
          "text": [
            "30 total epochs and 1337 steps per epoch\n",
            "Learning rate schedule: 1e-08 to 3e-05 to 1.01e-07\n"
          ]
        },
        {
          "output_type": "display_data",
          "data": {
            "image/png": "[encoded data removed]",
            "text/plain": [
              "<Figure size 1440x432 with 1 Axes>"
            ]
          },
          "metadata": {}
        }
      ]
    },
    {
      "cell_type": "markdown",
      "source": [
        "# Model\n",
        "\n",
        "여기에서 저는 EfficientNet을 사용하고 있습니다.  \n",
        "많은 인기 있는 컴퓨터 비전 모델과 비교하여 ImageNet의 매개변수 수와 정확도 사이에 매우 좋은 절충점이 있습니다.\n",
        "\n",
        ">https://github.com/qubvel/efficientnet"
      ],
      "metadata": {
        "id": "3OufAgYUMR3l"
      }
    },
    {
      "cell_type": "markdown",
      "source": [
        "![efficientnet.jpg](data:image/jpeg;base64,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)"
      ],
      "metadata": {
        "id": "oLezs9cvMeKq"
      }
    },
    {
      "cell_type": "code",
      "source": [
        "def model_fn(input_shape, N_CLASSES):\n",
        "    input_image = L.Input(shape=input_shape, name='input_image')\n",
        "    base_model = efn.EfficientNetB3(input_tensor=input_image, \n",
        "                                    include_top=False, \n",
        "                                    weights='noisy-student', \n",
        "                                    pooling='avg')\n",
        "\n",
        "    model = Sequential([\n",
        "                base_model,\n",
        "                L.Dropout(.25),\n",
        "                L.Dense(N_CLASSES, activation='softmax', name='output')\n",
        "            ])\n",
        "\n",
        "    optimizer = optimizers.Adam(lr=LEARNING_RATE)\n",
        "    model.compile(optimizer=optimizer, \n",
        "                  loss=losses.SparseCategoricalCrossentropy(), \n",
        "                  metrics=['sparse_categorical_accuracy'])\n",
        "    \n",
        "    return model"
      ],
      "metadata": {
        "id": "sBU7Fe8CMNd0"
      },
      "execution_count": 34,
      "outputs": []
    },
    {
      "cell_type": "markdown",
      "source": [
        "# Training\n"
      ],
      "metadata": {
        "id": "B5YrLzEtMhn8"
      }
    },
    {
      "cell_type": "code",
      "source": [
        "skf = KFold(n_splits=N_FOLDS, shuffle=True, random_state=seed)\n",
        "oof_pred = []; oof_labels = []; history_list = []\n",
        "\n",
        "for fold,(idxT, idxV) in enumerate(skf.split(np.arange(15))):\n",
        "    if tpu: tf.tpu.experimental.initialize_tpu_system(tpu)\n",
        "    print(f'\\nFOLD: {fold+1}')\n",
        "    print(f'TRAIN: {idxT} VALID: {idxV}')\n",
        "\n",
        "    # Create train and validation sets\n",
        "    TRAIN_FILENAMES = tf.io.gfile.glob(['Id_train%.2i*.tfrec' % x for x in idxT])\n",
        "    VALID_FILENAMES = tf.io.gfile.glob(['Id_train%.2i*.tfrec' % x for x in idxV])\n",
        "    np.random.shuffle(TRAINING_FILENAMES)\n",
        "    ct_train = count_data_items(TRAIN_FILENAMES)\n",
        "    \n",
        "    ## MODEL\n",
        "    K.clear_session()\n",
        "    with strategy.scope():\n",
        "        model = model_fn((None, None, CHANNELS), N_CLASSES)\n",
        "        \n",
        "    model_path = f'model_{fold}.h5'\n",
        "    es = EarlyStopping(monitor='val_sparse_categorical_accuracy', mode='max', \n",
        "                       patience=ES_PATIENCE, restore_best_weights=True, verbose=1)\n",
        "\n",
        "    ## TRAIN\n",
        "    history = model.fit(x=get_dataset(TRAIN_FILENAMES, labeled=True, ordered=False, repeated=True, augment=True), \n",
        "                        validation_data=get_dataset(VALID_FILENAMES, labeled=True, ordered=True, repeated=False, augment=False), \n",
        "                        steps_per_epoch=(ct_train // BATCH_SIZE), \n",
        "                        callbacks=[es, LearningRateScheduler(lrfn, verbose=0)], \n",
        "                        epochs=EPOCHS,  \n",
        "                        verbose=2).history\n",
        "      \n",
        "    history_list.append(history)\n",
        "    # Save last model weights\n",
        "    model.save_weights(model_path)\n",
        "\n",
        "    # OOF predictions\n",
        "    ds_valid = get_dataset(VALID_FILENAMES, labeled=True, ordered=True, repeated=False, augment=False)\n",
        "    oof_labels.append([target.numpy() for img, target in iter(ds_valid.unbatch())])\n",
        "    x_oof = ds_valid.map(lambda image, image_name: image)\n",
        "    oof_pred.append(np.argmax(model.predict(x_oof), axis=-1))\n",
        "    \n",
        "    ## RESULTS\n",
        "    print(f\"#### FOLD {fold+1} OOF Accuracy = {np.max(history['val_sparse_categorical_accuracy']):.3f}\")"
      ],
      "metadata": {
        "colab": {
          "base_uri": "https://localhost:8080/",
          "height": 474
        },
        "id": "_p5yXlASMgnK",
        "outputId": "31214a92-a224-4927-d8b3-b122bf0bcc2f"
      },
      "execution_count": 36,
      "outputs": [
        {
          "output_type": "stream",
          "name": "stdout",
          "text": [
            "\n",
            "FOLD: 1\n",
            "TRAIN: [ 0  2  3  4  5  7  9 10 11 12 13 14] VALID: [1 6 8]\n"
          ]
        },
        {
          "output_type": "error",
          "ename": "ValueError",
          "evalue": "ignored",
          "traceback": [
            "\u001b[0;31m---------------------------------------------------------------------------\u001b[0m",
            "\u001b[0;31mValueError\u001b[0m                                Traceback (most recent call last)",
            "\u001b[0;32m<ipython-input-36-c1596edd4860>\u001b[0m in \u001b[0;36m<module>\u001b[0;34m()\u001b[0m\n\u001b[1;32m     16\u001b[0m     \u001b[0mK\u001b[0m\u001b[0;34m.\u001b[0m\u001b[0mclear_session\u001b[0m\u001b[0;34m(\u001b[0m\u001b[0;34m)\u001b[0m\u001b[0;34m\u001b[0m\u001b[0;34m\u001b[0m\u001b[0m\n\u001b[1;32m     17\u001b[0m     \u001b[0;32mwith\u001b[0m \u001b[0mstrategy\u001b[0m\u001b[0;34m.\u001b[0m\u001b[0mscope\u001b[0m\u001b[0;34m(\u001b[0m\u001b[0;34m)\u001b[0m\u001b[0;34m:\u001b[0m\u001b[0;34m\u001b[0m\u001b[0;34m\u001b[0m\u001b[0m\n\u001b[0;32m---> 18\u001b[0;31m         \u001b[0mmodel\u001b[0m \u001b[0;34m=\u001b[0m \u001b[0mmodel_fn\u001b[0m\u001b[0;34m(\u001b[0m\u001b[0;34m(\u001b[0m\u001b[0;32mNone\u001b[0m\u001b[0;34m,\u001b[0m \u001b[0;32mNone\u001b[0m\u001b[0;34m,\u001b[0m \u001b[0mCHANNELS\u001b[0m\u001b[0;34m)\u001b[0m\u001b[0;34m,\u001b[0m \u001b[0mN_CLASSES\u001b[0m\u001b[0;34m)\u001b[0m\u001b[0;34m\u001b[0m\u001b[0;34m\u001b[0m\u001b[0m\n\u001b[0m\u001b[1;32m     19\u001b[0m \u001b[0;34m\u001b[0m\u001b[0m\n\u001b[1;32m     20\u001b[0m     \u001b[0mmodel_path\u001b[0m \u001b[0;34m=\u001b[0m \u001b[0;34mf'model_{fold}.h5'\u001b[0m\u001b[0;34m\u001b[0m\u001b[0;34m\u001b[0m\u001b[0m\n",
            "\u001b[0;32m<ipython-input-34-951dd5bf1067>\u001b[0m in \u001b[0;36mmodel_fn\u001b[0;34m(input_shape, N_CLASSES)\u001b[0m\n\u001b[1;32m      4\u001b[0m                                     \u001b[0minclude_top\u001b[0m\u001b[0;34m=\u001b[0m\u001b[0;32mFalse\u001b[0m\u001b[0;34m,\u001b[0m\u001b[0;34m\u001b[0m\u001b[0;34m\u001b[0m\u001b[0m\n\u001b[1;32m      5\u001b[0m                                     \u001b[0mweights\u001b[0m\u001b[0;34m=\u001b[0m\u001b[0;34m'noisy-student'\u001b[0m\u001b[0;34m,\u001b[0m\u001b[0;34m\u001b[0m\u001b[0;34m\u001b[0m\u001b[0m\n\u001b[0;32m----> 6\u001b[0;31m                                     pooling='avg')\n\u001b[0m\u001b[1;32m      7\u001b[0m \u001b[0;34m\u001b[0m\u001b[0m\n\u001b[1;32m      8\u001b[0m     model = Sequential([\n",
            "\u001b[0;32m/usr/local/lib/python3.7/dist-packages/efficientnet/__init__.py\u001b[0m in \u001b[0;36mwrapper\u001b[0;34m(*args, **kwargs)\u001b[0m\n\u001b[1;32m     55\u001b[0m         \u001b[0mkwargs\u001b[0m\u001b[0;34m[\u001b[0m\u001b[0;34m'models'\u001b[0m\u001b[0;34m]\u001b[0m \u001b[0;34m=\u001b[0m \u001b[0mtfkeras\u001b[0m\u001b[0;34m.\u001b[0m\u001b[0mmodels\u001b[0m\u001b[0;34m\u001b[0m\u001b[0;34m\u001b[0m\u001b[0m\n\u001b[1;32m     56\u001b[0m         \u001b[0mkwargs\u001b[0m\u001b[0;34m[\u001b[0m\u001b[0;34m'utils'\u001b[0m\u001b[0;34m]\u001b[0m \u001b[0;34m=\u001b[0m \u001b[0mtfkeras\u001b[0m\u001b[0;34m.\u001b[0m\u001b[0mutils\u001b[0m\u001b[0;34m\u001b[0m\u001b[0;34m\u001b[0m\u001b[0m\n\u001b[0;32m---> 57\u001b[0;31m         \u001b[0;32mreturn\u001b[0m \u001b[0mfunc\u001b[0m\u001b[0;34m(\u001b[0m\u001b[0;34m*\u001b[0m\u001b[0margs\u001b[0m\u001b[0;34m,\u001b[0m \u001b[0;34m**\u001b[0m\u001b[0mkwargs\u001b[0m\u001b[0;34m)\u001b[0m\u001b[0;34m\u001b[0m\u001b[0;34m\u001b[0m\u001b[0m\n\u001b[0m\u001b[1;32m     58\u001b[0m \u001b[0;34m\u001b[0m\u001b[0m\n\u001b[1;32m     59\u001b[0m     \u001b[0;32mreturn\u001b[0m \u001b[0mwrapper\u001b[0m\u001b[0;34m\u001b[0m\u001b[0;34m\u001b[0m\u001b[0m\n",
            "\u001b[0;32m/usr/local/lib/python3.7/dist-packages/efficientnet/model.py\u001b[0m in \u001b[0;36mEfficientNetB3\u001b[0;34m(include_top, weights, input_tensor, input_shape, pooling, classes, **kwargs)\u001b[0m\n\u001b[1;32m    528\u001b[0m         \u001b[0minput_tensor\u001b[0m\u001b[0;34m=\u001b[0m\u001b[0minput_tensor\u001b[0m\u001b[0;34m,\u001b[0m \u001b[0minput_shape\u001b[0m\u001b[0;34m=\u001b[0m\u001b[0minput_shape\u001b[0m\u001b[0;34m,\u001b[0m\u001b[0;34m\u001b[0m\u001b[0;34m\u001b[0m\u001b[0m\n\u001b[1;32m    529\u001b[0m         \u001b[0mpooling\u001b[0m\u001b[0;34m=\u001b[0m\u001b[0mpooling\u001b[0m\u001b[0;34m,\u001b[0m \u001b[0mclasses\u001b[0m\u001b[0;34m=\u001b[0m\u001b[0mclasses\u001b[0m\u001b[0;34m,\u001b[0m\u001b[0;34m\u001b[0m\u001b[0;34m\u001b[0m\u001b[0m\n\u001b[0;32m--> 530\u001b[0;31m         \u001b[0;34m**\u001b[0m\u001b[0mkwargs\u001b[0m\u001b[0;34m\u001b[0m\u001b[0;34m\u001b[0m\u001b[0m\n\u001b[0m\u001b[1;32m    531\u001b[0m     )\n\u001b[1;32m    532\u001b[0m \u001b[0;34m\u001b[0m\u001b[0m\n",
            "\u001b[0;32m/usr/local/lib/python3.7/dist-packages/efficientnet/model.py\u001b[0m in \u001b[0;36mEfficientNet\u001b[0;34m(width_coefficient, depth_coefficient, default_resolution, dropout_rate, drop_connect_rate, depth_divisor, blocks_args, model_name, include_top, weights, input_tensor, input_shape, pooling, classes, **kwargs)\u001b[0m\n\u001b[1;32m    333\u001b[0m         \u001b[0;32melse\u001b[0m\u001b[0;34m:\u001b[0m\u001b[0;34m\u001b[0m\u001b[0;34m\u001b[0m\u001b[0m\n\u001b[1;32m    334\u001b[0m             \u001b[0mis_keras_tensor\u001b[0m \u001b[0;34m=\u001b[0m \u001b[0mbackend\u001b[0m\u001b[0;34m.\u001b[0m\u001b[0mis_keras_tensor\u001b[0m\u001b[0;34m\u001b[0m\u001b[0;34m\u001b[0m\u001b[0m\n\u001b[0;32m--> 335\u001b[0;31m         \u001b[0;32mif\u001b[0m \u001b[0;32mnot\u001b[0m \u001b[0mis_keras_tensor\u001b[0m\u001b[0;34m(\u001b[0m\u001b[0minput_tensor\u001b[0m\u001b[0;34m)\u001b[0m\u001b[0;34m:\u001b[0m\u001b[0;34m\u001b[0m\u001b[0;34m\u001b[0m\u001b[0m\n\u001b[0m\u001b[1;32m    336\u001b[0m             \u001b[0mimg_input\u001b[0m \u001b[0;34m=\u001b[0m \u001b[0mlayers\u001b[0m\u001b[0;34m.\u001b[0m\u001b[0mInput\u001b[0m\u001b[0;34m(\u001b[0m\u001b[0mtensor\u001b[0m\u001b[0;34m=\u001b[0m\u001b[0minput_tensor\u001b[0m\u001b[0;34m,\u001b[0m \u001b[0mshape\u001b[0m\u001b[0;34m=\u001b[0m\u001b[0minput_shape\u001b[0m\u001b[0;34m)\u001b[0m\u001b[0;34m\u001b[0m\u001b[0;34m\u001b[0m\u001b[0m\n\u001b[1;32m    337\u001b[0m         \u001b[0;32melse\u001b[0m\u001b[0;34m:\u001b[0m\u001b[0;34m\u001b[0m\u001b[0;34m\u001b[0m\u001b[0m\n",
            "\u001b[0;32m/usr/local/lib/python3.7/dist-packages/tensorflow/python/keras/backend.py\u001b[0m in \u001b[0;36mis_keras_tensor\u001b[0;34m(x)\u001b[0m\n\u001b[1;32m   1280\u001b[0m                      keras_tensor.KerasTensor)):\n\u001b[1;32m   1281\u001b[0m     raise ValueError('Unexpectedly found an instance of type `' + str(type(x)) +\n\u001b[0;32m-> 1282\u001b[0;31m                      '`. Expected a symbolic tensor instance.')\n\u001b[0m\u001b[1;32m   1283\u001b[0m   \u001b[0;32mif\u001b[0m \u001b[0mops\u001b[0m\u001b[0;34m.\u001b[0m\u001b[0mexecuting_eagerly_outside_functions\u001b[0m\u001b[0;34m(\u001b[0m\u001b[0;34m)\u001b[0m\u001b[0;34m:\u001b[0m\u001b[0;34m\u001b[0m\u001b[0;34m\u001b[0m\u001b[0m\n\u001b[1;32m   1284\u001b[0m     \u001b[0;32mreturn\u001b[0m \u001b[0misinstance\u001b[0m\u001b[0;34m(\u001b[0m\u001b[0mx\u001b[0m\u001b[0;34m,\u001b[0m \u001b[0mkeras_tensor\u001b[0m\u001b[0;34m.\u001b[0m\u001b[0mKerasTensor\u001b[0m\u001b[0;34m)\u001b[0m\u001b[0;34m\u001b[0m\u001b[0;34m\u001b[0m\u001b[0m\n",
            "\u001b[0;31mValueError\u001b[0m: Unexpectedly found an instance of type `<class 'keras.engine.keras_tensor.KerasTensor'>`. Expected a symbolic tensor instance."
          ]
        }
      ]
    },
    {
      "cell_type": "code",
      "source": [
        "for fold, history in enumerate(history_list):\n",
        "    print(f'\\nFOLD: {fold+1}')\n",
        "    plot_metrics(history)"
      ],
      "metadata": {
        "id": "4B8Xo7OTMjbo"
      },
      "execution_count": null,
      "outputs": []
    },
    {
      "cell_type": "markdown",
      "source": [
        "# Model evaluation\n",
        "\n",
        "이제 모델의 성능을 평가할 수 있습니다. 먼저 정확도, 정밀도, 재현율 및 f1 점수와 같은 일반적인 메트릭을 평가할 수 있습니다. scikit-learn은 이 분류 보고서에 대한 완벽한 기능을 제공합니다.\n",
        "\n",
        "우리는 OOF 예측에 대한 모델을 평가하고 있습니다. 이는 Out Of Fold를 의미합니다. K-Fold를 사용하여 훈련하기 때문에 모델은 모든 데이터를 볼 것이며 각 폴드를 평가하는 올바른 방법은 그렇지 않은 예측을 보는 것입니다. 그 폴드에서."
      ],
      "metadata": {
        "id": "EjRh1ZBSNC6z"
      }
    },
    {
      "cell_type": "markdown",
      "source": [
        "**OOF metrics**"
      ],
      "metadata": {
        "id": "ahKYSHkKNLDX"
      }
    },
    {
      "cell_type": "code",
      "source": [
        "y_true = np.concatenate(oof_labels)\n",
        "y_preds = np.concatenate(oof_pred)\n",
        "\n",
        "print(classification_report(y_true, y_preds, target_names=CLASSES))"
      ],
      "metadata": {
        "id": "JZiJSwNSNHY9"
      },
      "execution_count": null,
      "outputs": []
    },
    {
      "cell_type": "markdown",
      "source": [
        "**Confusion matrix**"
      ],
      "metadata": {
        "id": "jFInE7mpNPJr"
      }
    },
    {
      "cell_type": "code",
      "source": [
        "fig, ax = plt.subplots(1, 1, figsize=(20, 12))\n",
        "train_cfn_matrix = confusion_matrix(y_true, y_preds, labels=range(len(CLASSES)))\n",
        "train_cfn_matrix = (train_cfn_matrix.T / train_cfn_matrix.sum(axis=1)).T\n",
        "train_df_cm = pd.DataFrame(train_cfn_matrix, index=CLASSES, columns=CLASSES)\n",
        "ax = sns.heatmap(train_df_cm, cmap='Blues', annot=True, fmt='.2f', linewidths=.5).set_title('Train', fontsize=30)\n",
        "plt.show()"
      ],
      "metadata": {
        "id": "cc4Qk5h_NQCd"
      },
      "execution_count": null,
      "outputs": []
    },
    {
      "cell_type": "markdown",
      "source": [
        "# Visualize predictions\n",
        "\n",
        "마지막으로, 항상 데이터를 보고 모델의 예측 중 일부를 검사하는 것이 좋습니다.  \n",
        "데이터가 정말 어렵기 때문에 모델이 일부 예측을 잘못하고 있을 수 있습니다. 모델이 실제로 좋지 않은 경우에."
      ],
      "metadata": {
        "id": "fn_wXj2dNUl-"
      }
    },
    {
      "cell_type": "markdown",
      "source": [
        "Class map\n",
        "\n",
        ">0: Cassava Bacterial Blight (CBB)  \n",
        "1: Cassava Brown Streak Disease (CBSD)  \n",
        "2: Cassava Green Mottle (CGM)  \n",
        "3: Cassava Mosaic Disease (CMD)  \n",
        "4: Healthy  "
      ],
      "metadata": {
        "id": "DU7IpFW3NuKW"
      }
    },
    {
      "cell_type": "markdown",
      "source": [
        "**Train set**"
      ],
      "metadata": {
        "id": "Pf3WBi-PNx4v"
      }
    },
    {
      "cell_type": "code",
      "source": [
        "x_samp, y_samp = dataset_to_numpy_util(train_dataset, 18)\n",
        "\n",
        "x_samp_1, y_samp_1 = x_samp[:9,:,:,:], y_samp[:9]\n",
        "samp_preds_1 = model.predict(x_samp_1, batch_size=9)\n",
        "display_9_images_with_predictions(x_samp_1, samp_preds_1, y_samp_1)\n",
        "\n",
        "x_samp_2, y_samp_2 = x_samp[9:,:,:,:], y_samp[9:]\n",
        "samp_preds_2 = model.predict(x_samp_2, batch_size=9)\n",
        "display_9_images_with_predictions(x_samp_2, samp_preds_2, y_samp_2)"
      ],
      "metadata": {
        "id": "eAGAjFNINSmr"
      },
      "execution_count": null,
      "outputs": []
    }
  ],
  "metadata": {
    "colab": {
      "name": "Cassava Leaf Disease.ipynb",
      "provenance": [],
      "mount_file_id": "1-FCjUNbhcMbqHSC_doSSRwJU6lvc1wZA",
      "authorship_tag": "ABX9TyMMrHb650y8cKdxSHm0NyU+",
      "include_colab_link": true
    },
    "kernelspec": {
      "display_name": "Python 3",
      "name": "python3"
    },
    "language_info": {
      "name": "python"
    },
    "accelerator": "TPU"
  },
  "nbformat": 4,
  "nbformat_minor": 0
}