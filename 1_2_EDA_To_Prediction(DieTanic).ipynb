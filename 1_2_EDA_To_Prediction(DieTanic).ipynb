{
  "nbformat": 4,
  "nbformat_minor": 0,
  "metadata": {
    "colab": {
      "name": "1-2_EDA To Prediction(DieTanic).ipynb",
      "provenance": [],
      "authorship_tag": "ABX9TyPSH5Gpli+XH0gQDMLrC4x1",
      "include_colab_link": true
    },
    "kernelspec": {
      "name": "python3",
      "display_name": "Python 3"
    },
    "language_info": {
      "name": "python"
    }
  },
  "cells": [
    {
      "cell_type": "markdown",
      "metadata": {
        "id": "view-in-github",
        "colab_type": "text"
      },
      "source": [
        "<a href=\"https://colab.research.google.com/github/kidsage/KaggleStudy/blob/main/1_2_EDA_To_Prediction(DieTanic).ipynb\" target=\"_parent\"><img src=\"https://colab.research.google.com/assets/colab-badge.svg\" alt=\"Open In Colab\"/></a>"
      ]
    },
    {
      "cell_type": "markdown",
      "metadata": {
        "id": "J7ksoDBxMdtH"
      },
      "source": [
        "# **EDA To Prediction (DieTanic)**\n",
        "- Part1: Exploratory Data Analysis(EDA)\n",
        "- Part2: Feature Engineering and Data Cleaning\n",
        "- Part3: Predictive Modeling"
      ]
    },
    {
      "cell_type": "markdown",
      "metadata": {
        "id": "uVA1HJflM572"
      },
      "source": [
        "# **Part1: EDA**"
      ]
    },
    {
      "cell_type": "code",
      "metadata": {
        "id": "7UPA0zeQMczZ"
      },
      "source": [
        "import numpy as np\n",
        "import pandas as pd\n",
        "import matplotlib.pyplot as plt\n",
        "import seaborn as sns\n",
        "\n",
        "plt.style.use('fivethirtyeight')\n",
        "\n",
        "import warnings\n",
        "warnings.filterwarnings('ignore')\n",
        "\n",
        "%matplotlib inline"
      ],
      "execution_count": 3,
      "outputs": []
    },
    {
      "cell_type": "code",
      "metadata": {
        "id": "7JRCZSY1NMRn"
      },
      "source": [
        ""
      ],
      "execution_count": null,
      "outputs": []
    }
  ]
}